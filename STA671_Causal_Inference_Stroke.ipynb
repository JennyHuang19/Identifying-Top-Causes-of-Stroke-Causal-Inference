{
 "cells": [
  {
   "cell_type": "markdown",
   "metadata": {},
   "source": [
    "# Identifying Top Causes of Stroke: Modifiable vs. Non-modifiable Risk Factors\n",
    "\n",
    "By: Jenny Huang"
   ]
  },
  {
   "cell_type": "markdown",
   "metadata": {},
   "source": [
    "# Project Motivation"
   ]
  },
  {
   "cell_type": "markdown",
   "metadata": {},
   "source": [
    "Stroke is a heterogeneous syndrome, meaning that it is often difficult to pinpoint its specific causes. It is also the leading cause of disability in the United States, and recent studies claim that up to 50% of strokes are preventable [2]. The risk factors of stroke can be separated into two broad categories: modifiable and nonmodifiable [1]. For example, age, sex, race, and genetics are nonmodifiable risk factors, while smoking, diet, and hypertension are commonly reported modifiable risk factors [1].\n",
    "\n",
    "I am interested in quantifying the importance of modifiable risk factors relative to nonmodifiable risk factors of stroke. If healthcare providers were better able to understand the importance of modifiable risk factors in relation to nonmodifiable ones, they may be able to provide individuals in at-risk populations with compelling information about the importance of adopting lifestyle change. After all, a patient’s belief in the modifiability of their disease risk may greatly influence their willingness to adapt to healthier lifestyle habits as well as to seek treatment for medical conditions like hypertension and diabetes [1].\n",
    "\n",
    "[1] https://www.ahajournals.org/doi/full/10.1161/CIRCRESAHA.116.308398\n",
    "\n",
    "[2] https://my.clevelandclinic.org/health/articles/13398-know-your-risk-factors-for-stroke"
   ]
  },
  {
   "cell_type": "code",
   "execution_count": 1,
   "metadata": {},
   "outputs": [],
   "source": [
    "import numpy as np\n",
    "import pandas as pd\n",
    "import matplotlib.pyplot as plt\n",
    "import seaborn as sns #for plotting\n",
    "from sklearn.ensemble import RandomForestClassifier #for the model\n",
    "from sklearn.tree import DecisionTreeClassifier\n",
    "from sklearn.tree import export_graphviz #plot tree\n",
    "from sklearn.metrics import roc_curve, auc #for model evaluation\n",
    "from sklearn.metrics import classification_report #for model evaluation\n",
    "from sklearn.metrics import confusion_matrix #for model evaluation\n",
    "from sklearn.model_selection import train_test_split #for data splitting\n",
    "np.random.seed(1) #ensure reproducibility\n",
    "\n",
    "pd.options.mode.chained_assignment = None  #hide any pandas warnings"
   ]
  },
  {
   "cell_type": "code",
   "execution_count": 3,
   "metadata": {
    "scrolled": true
   },
   "outputs": [
    {
     "name": "stdout",
     "output_type": "stream",
     "text": [
      "Requirement already satisfied: dame-flame in /opt/anaconda3/lib/python3.8/site-packages (0.41)\n",
      "Requirement already satisfied: scikit-learn>=0.23.2 in /opt/anaconda3/lib/python3.8/site-packages (from dame-flame) (1.0.1)\n",
      "Requirement already satisfied: numpy>=1.6.1 in /opt/anaconda3/lib/python3.8/site-packages (from dame-flame) (1.19.2)\n",
      "Requirement already satisfied: pandas>=0.16.5 in /opt/anaconda3/lib/python3.8/site-packages (from dame-flame) (1.1.3)\n",
      "Requirement already satisfied: threadpoolctl>=2.0.0 in /opt/anaconda3/lib/python3.8/site-packages (from scikit-learn>=0.23.2->dame-flame) (2.1.0)\n",
      "Requirement already satisfied: joblib>=0.11 in /opt/anaconda3/lib/python3.8/site-packages (from scikit-learn>=0.23.2->dame-flame) (0.17.0)\n",
      "Requirement already satisfied: scipy>=1.1.0 in /opt/anaconda3/lib/python3.8/site-packages (from scikit-learn>=0.23.2->dame-flame) (1.5.2)\n",
      "Requirement already satisfied: python-dateutil>=2.7.3 in /opt/anaconda3/lib/python3.8/site-packages (from pandas>=0.16.5->dame-flame) (2.8.1)\n",
      "Requirement already satisfied: pytz>=2017.2 in /opt/anaconda3/lib/python3.8/site-packages (from pandas>=0.16.5->dame-flame) (2020.1)\n",
      "Requirement already satisfied: six>=1.5 in /opt/anaconda3/lib/python3.8/site-packages (from python-dateutil>=2.7.3->pandas>=0.16.5->dame-flame) (1.15.0)\n",
      "Note: you may need to restart the kernel to use updated packages.\n"
     ]
    }
   ],
   "source": [
    "pip install dame-flame"
   ]
  },
  {
   "cell_type": "markdown",
   "metadata": {},
   "source": [
    "# Data Cleaning"
   ]
  },
  {
   "cell_type": "code",
   "execution_count": 2,
   "metadata": {},
   "outputs": [],
   "source": [
    "import pandas as pd\n",
    "import numpy as np\n",
    "import dame_flame\n",
    "import random\n",
    "import matplotlib.pyplot as plt"
   ]
  },
  {
   "cell_type": "markdown",
   "metadata": {},
   "source": [
    "The dataset at hand is an observational dataset containing 11 clinical features for predicting stroke, including age group, hypertension, heart diseases, living conditions, group of bmi, group of glucose level, and smoking status. The dataset is from Kaggle’s Healthcare Dataset, donated by UCI."
   ]
  },
  {
   "cell_type": "code",
   "execution_count": 3,
   "metadata": {},
   "outputs": [],
   "source": [
    "sk = pd.read_csv(\"/Users/JennyH/Documents/sta671/stroke.csv\")"
   ]
  },
  {
   "cell_type": "code",
   "execution_count": 4,
   "metadata": {
    "scrolled": true
   },
   "outputs": [
    {
     "data": {
      "text/html": [
       "<div>\n",
       "<style scoped>\n",
       "    .dataframe tbody tr th:only-of-type {\n",
       "        vertical-align: middle;\n",
       "    }\n",
       "\n",
       "    .dataframe tbody tr th {\n",
       "        vertical-align: top;\n",
       "    }\n",
       "\n",
       "    .dataframe thead th {\n",
       "        text-align: right;\n",
       "    }\n",
       "</style>\n",
       "<table border=\"1\" class=\"dataframe\">\n",
       "  <thead>\n",
       "    <tr style=\"text-align: right;\">\n",
       "      <th></th>\n",
       "      <th>id</th>\n",
       "      <th>gender</th>\n",
       "      <th>age</th>\n",
       "      <th>hypertension</th>\n",
       "      <th>heart_disease</th>\n",
       "      <th>ever_married</th>\n",
       "      <th>work_type</th>\n",
       "      <th>Residence_type</th>\n",
       "      <th>avg_glucose_level</th>\n",
       "      <th>bmi</th>\n",
       "      <th>smoking_status</th>\n",
       "      <th>stroke</th>\n",
       "    </tr>\n",
       "  </thead>\n",
       "  <tbody>\n",
       "    <tr>\n",
       "      <th>0</th>\n",
       "      <td>9046</td>\n",
       "      <td>Male</td>\n",
       "      <td>67.0</td>\n",
       "      <td>0</td>\n",
       "      <td>1</td>\n",
       "      <td>Yes</td>\n",
       "      <td>Private</td>\n",
       "      <td>Urban</td>\n",
       "      <td>228.69</td>\n",
       "      <td>36.6</td>\n",
       "      <td>formerly smoked</td>\n",
       "      <td>1</td>\n",
       "    </tr>\n",
       "    <tr>\n",
       "      <th>1</th>\n",
       "      <td>51676</td>\n",
       "      <td>Female</td>\n",
       "      <td>61.0</td>\n",
       "      <td>0</td>\n",
       "      <td>0</td>\n",
       "      <td>Yes</td>\n",
       "      <td>Self-employed</td>\n",
       "      <td>Rural</td>\n",
       "      <td>202.21</td>\n",
       "      <td>NaN</td>\n",
       "      <td>never smoked</td>\n",
       "      <td>1</td>\n",
       "    </tr>\n",
       "    <tr>\n",
       "      <th>2</th>\n",
       "      <td>31112</td>\n",
       "      <td>Male</td>\n",
       "      <td>80.0</td>\n",
       "      <td>0</td>\n",
       "      <td>1</td>\n",
       "      <td>Yes</td>\n",
       "      <td>Private</td>\n",
       "      <td>Rural</td>\n",
       "      <td>105.92</td>\n",
       "      <td>32.5</td>\n",
       "      <td>never smoked</td>\n",
       "      <td>1</td>\n",
       "    </tr>\n",
       "    <tr>\n",
       "      <th>3</th>\n",
       "      <td>60182</td>\n",
       "      <td>Female</td>\n",
       "      <td>49.0</td>\n",
       "      <td>0</td>\n",
       "      <td>0</td>\n",
       "      <td>Yes</td>\n",
       "      <td>Private</td>\n",
       "      <td>Urban</td>\n",
       "      <td>171.23</td>\n",
       "      <td>34.4</td>\n",
       "      <td>smokes</td>\n",
       "      <td>1</td>\n",
       "    </tr>\n",
       "    <tr>\n",
       "      <th>4</th>\n",
       "      <td>1665</td>\n",
       "      <td>Female</td>\n",
       "      <td>79.0</td>\n",
       "      <td>1</td>\n",
       "      <td>0</td>\n",
       "      <td>Yes</td>\n",
       "      <td>Self-employed</td>\n",
       "      <td>Rural</td>\n",
       "      <td>174.12</td>\n",
       "      <td>24.0</td>\n",
       "      <td>never smoked</td>\n",
       "      <td>1</td>\n",
       "    </tr>\n",
       "  </tbody>\n",
       "</table>\n",
       "</div>"
      ],
      "text/plain": [
       "      id  gender   age  hypertension  heart_disease ever_married  \\\n",
       "0   9046    Male  67.0             0              1          Yes   \n",
       "1  51676  Female  61.0             0              0          Yes   \n",
       "2  31112    Male  80.0             0              1          Yes   \n",
       "3  60182  Female  49.0             0              0          Yes   \n",
       "4   1665  Female  79.0             1              0          Yes   \n",
       "\n",
       "       work_type Residence_type  avg_glucose_level   bmi   smoking_status  \\\n",
       "0        Private          Urban             228.69  36.6  formerly smoked   \n",
       "1  Self-employed          Rural             202.21   NaN     never smoked   \n",
       "2        Private          Rural             105.92  32.5     never smoked   \n",
       "3        Private          Urban             171.23  34.4           smokes   \n",
       "4  Self-employed          Rural             174.12  24.0     never smoked   \n",
       "\n",
       "   stroke  \n",
       "0       1  \n",
       "1       1  \n",
       "2       1  \n",
       "3       1  \n",
       "4       1  "
      ]
     },
     "execution_count": 4,
     "metadata": {},
     "output_type": "execute_result"
    }
   ],
   "source": [
    "sk.head()"
   ]
  },
  {
   "cell_type": "code",
   "execution_count": 5,
   "metadata": {},
   "outputs": [],
   "source": [
    "# Drop the ID column\n",
    "sk.drop(columns=['id'],inplace=True) "
   ]
  },
  {
   "cell_type": "code",
   "execution_count": 6,
   "metadata": {},
   "outputs": [
    {
     "data": {
      "text/plain": [
       "gender                 0\n",
       "age                    0\n",
       "hypertension           0\n",
       "heart_disease          0\n",
       "ever_married           0\n",
       "work_type              0\n",
       "Residence_type         0\n",
       "avg_glucose_level      0\n",
       "bmi                  201\n",
       "smoking_status         0\n",
       "stroke                 0\n",
       "dtype: int64"
      ]
     },
     "execution_count": 6,
     "metadata": {},
     "output_type": "execute_result"
    }
   ],
   "source": [
    "# There are 201 null values for bmi. We will drop these values in the cell below.\n",
    "sk.isnull().sum()"
   ]
  },
  {
   "cell_type": "code",
   "execution_count": 7,
   "metadata": {},
   "outputs": [],
   "source": [
    "# Need to transform ever_married to {0,1}\n",
    "d = {\"No\": 0, \"Yes\": 1, \"U\": np.nan}\n",
    "sk['ever_married'] = sk['ever_married'].map(d)\n",
    "\n",
    "# Transforming Gender to {0,1}\n",
    "d = {\"Female\":1, \"Male\": 0}\n",
    "sk['gender'] = sk['gender'].map(d)\n",
    "\n",
    "\n",
    "d = {\"Urban\":1, \"Rural\": 0}\n",
    "sk['Residence_type'] = sk['Residence_type'].map(d)\n",
    "\n",
    "# I bin all continuous variables using medically sound bins.\n",
    "# Bin age: https://cmdlinetips.com/2019/12/how-to-discretize-bin-a-variable-in-python/\n",
    "sk['obese']=pd.cut(x = sk['bmi'],\n",
    "                        bins = [0,30,100], \n",
    "                        labels = [0, 1])\n",
    "sk['high_blood_sugar']=pd.cut(x = sk['avg_glucose_level'],\n",
    "                        bins = [0,130,300], \n",
    "                        labels = [0, 1])\n",
    "sk['age_bin']=pd.cut(x = sk['age'],\n",
    "                        bins = [0,25,44,60,82], \n",
    "                        labels = [0, 1, 2, 3])\n",
    "\n",
    "# I use one hot encoding for features with more than one category (ie smoking_status, work_type, age_bin)\n",
    "prep_data = sk[['smoking_status','work_type', 'age_bin']]\n",
    "# prep_data\n",
    "prep_data=pd.get_dummies(prep_data)\n",
    "prep_data\n",
    "sk.drop(columns=['smoking_status','work_type'],inplace=True)\n",
    "\n",
    "\n",
    "# Drop NA values.\n",
    "sk = sk.dropna()\n",
    "sk = sk.astype(int) "
   ]
  },
  {
   "cell_type": "code",
   "execution_count": 8,
   "metadata": {},
   "outputs": [],
   "source": [
    "# separate y from x.\n",
    "y=sk['stroke']\n",
    "sk_with_outcome = sk.copy()\n",
    "sk.drop(columns=['stroke'],inplace=True)\n",
    "x=sk.merge(prep_data,left_index=True, right_index=True,how='left')"
   ]
  },
  {
   "cell_type": "code",
   "execution_count": 9,
   "metadata": {},
   "outputs": [],
   "source": [
    "# remerge the x and the y to create the new dataframe\n",
    "df = x.merge(y,left_index=True, right_index=True,how='left')"
   ]
  },
  {
   "cell_type": "code",
   "execution_count": 10,
   "metadata": {},
   "outputs": [],
   "source": [
    "# We will select all of the categorical variables here.\n",
    "\n",
    "df_trunc = df.loc[:, df.columns.intersection(['age_bin_0', 'age_bin_1', 'age_bin_2', 'age_bin_3', \n",
    "                                              'work_type_Govt_job', 'work_type_Never_worked', 'work_type_Private', 'work_type_Self-employed\t','work_type_children',\n",
    "                                              'gender', 'hypertension',\n",
    "                                    'heart_disease', 'ever_married', 'Residence_type', \n",
    "                                              'smoking_status_never smoked', 'smoking_status_formerly smoked','smoking_status_smokes', 'smoking_status_Unknown', \n",
    "                                              'high_blood_sugar', 'obese','stroke'])]"
   ]
  },
  {
   "cell_type": "markdown",
   "metadata": {},
   "source": [
    "## Exploratory Data Analysis"
   ]
  },
  {
   "cell_type": "code",
   "execution_count": 11,
   "metadata": {
    "scrolled": false
   },
   "outputs": [
    {
     "data": {
      "text/html": [
       "<div>\n",
       "<style scoped>\n",
       "    .dataframe tbody tr th:only-of-type {\n",
       "        vertical-align: middle;\n",
       "    }\n",
       "\n",
       "    .dataframe tbody tr th {\n",
       "        vertical-align: top;\n",
       "    }\n",
       "\n",
       "    .dataframe thead th {\n",
       "        text-align: right;\n",
       "    }\n",
       "</style>\n",
       "<table border=\"1\" class=\"dataframe\">\n",
       "  <thead>\n",
       "    <tr style=\"text-align: right;\">\n",
       "      <th></th>\n",
       "      <th>gender</th>\n",
       "      <th>age</th>\n",
       "      <th>hypertension</th>\n",
       "      <th>heart_disease</th>\n",
       "      <th>ever_married</th>\n",
       "      <th>Residence_type</th>\n",
       "      <th>avg_glucose_level</th>\n",
       "      <th>bmi</th>\n",
       "      <th>obese</th>\n",
       "      <th>high_blood_sugar</th>\n",
       "      <th>...</th>\n",
       "      <th>work_type_Govt_job</th>\n",
       "      <th>work_type_Never_worked</th>\n",
       "      <th>work_type_Private</th>\n",
       "      <th>work_type_Self-employed</th>\n",
       "      <th>work_type_children</th>\n",
       "      <th>age_bin_0</th>\n",
       "      <th>age_bin_1</th>\n",
       "      <th>age_bin_2</th>\n",
       "      <th>age_bin_3</th>\n",
       "      <th>stroke</th>\n",
       "    </tr>\n",
       "  </thead>\n",
       "  <tbody>\n",
       "    <tr>\n",
       "      <th>count</th>\n",
       "      <td>4908.000000</td>\n",
       "      <td>4908.000000</td>\n",
       "      <td>4908.000000</td>\n",
       "      <td>4908.000000</td>\n",
       "      <td>4908.000000</td>\n",
       "      <td>4908.000000</td>\n",
       "      <td>4908.000000</td>\n",
       "      <td>4908.000000</td>\n",
       "      <td>4908.000000</td>\n",
       "      <td>4908.000000</td>\n",
       "      <td>...</td>\n",
       "      <td>4908.000000</td>\n",
       "      <td>4908.000000</td>\n",
       "      <td>4908.000000</td>\n",
       "      <td>4908.000000</td>\n",
       "      <td>4908.000000</td>\n",
       "      <td>4908.000000</td>\n",
       "      <td>4908.000000</td>\n",
       "      <td>4908.000000</td>\n",
       "      <td>4908.000000</td>\n",
       "      <td>4908.000000</td>\n",
       "    </tr>\n",
       "    <tr>\n",
       "      <th>mean</th>\n",
       "      <td>0.590261</td>\n",
       "      <td>42.857579</td>\n",
       "      <td>0.091891</td>\n",
       "      <td>0.049511</td>\n",
       "      <td>0.652812</td>\n",
       "      <td>0.507335</td>\n",
       "      <td>104.808272</td>\n",
       "      <td>28.449878</td>\n",
       "      <td>0.385697</td>\n",
       "      <td>0.173798</td>\n",
       "      <td>...</td>\n",
       "      <td>0.128362</td>\n",
       "      <td>0.004482</td>\n",
       "      <td>0.572535</td>\n",
       "      <td>0.157905</td>\n",
       "      <td>0.136716</td>\n",
       "      <td>0.257539</td>\n",
       "      <td>0.244499</td>\n",
       "      <td>0.250000</td>\n",
       "      <td>0.247963</td>\n",
       "      <td>0.042584</td>\n",
       "    </tr>\n",
       "    <tr>\n",
       "      <th>std</th>\n",
       "      <td>0.491836</td>\n",
       "      <td>22.577004</td>\n",
       "      <td>0.288901</td>\n",
       "      <td>0.216954</td>\n",
       "      <td>0.476125</td>\n",
       "      <td>0.499997</td>\n",
       "      <td>44.418565</td>\n",
       "      <td>7.844093</td>\n",
       "      <td>0.486809</td>\n",
       "      <td>0.378974</td>\n",
       "      <td>...</td>\n",
       "      <td>0.334526</td>\n",
       "      <td>0.066808</td>\n",
       "      <td>0.494761</td>\n",
       "      <td>0.364689</td>\n",
       "      <td>0.343582</td>\n",
       "      <td>0.437323</td>\n",
       "      <td>0.429833</td>\n",
       "      <td>0.433057</td>\n",
       "      <td>0.431874</td>\n",
       "      <td>0.201937</td>\n",
       "    </tr>\n",
       "    <tr>\n",
       "      <th>min</th>\n",
       "      <td>0.000000</td>\n",
       "      <td>0.000000</td>\n",
       "      <td>0.000000</td>\n",
       "      <td>0.000000</td>\n",
       "      <td>0.000000</td>\n",
       "      <td>0.000000</td>\n",
       "      <td>55.000000</td>\n",
       "      <td>10.000000</td>\n",
       "      <td>0.000000</td>\n",
       "      <td>0.000000</td>\n",
       "      <td>...</td>\n",
       "      <td>0.000000</td>\n",
       "      <td>0.000000</td>\n",
       "      <td>0.000000</td>\n",
       "      <td>0.000000</td>\n",
       "      <td>0.000000</td>\n",
       "      <td>0.000000</td>\n",
       "      <td>0.000000</td>\n",
       "      <td>0.000000</td>\n",
       "      <td>0.000000</td>\n",
       "      <td>0.000000</td>\n",
       "    </tr>\n",
       "    <tr>\n",
       "      <th>25%</th>\n",
       "      <td>0.000000</td>\n",
       "      <td>25.000000</td>\n",
       "      <td>0.000000</td>\n",
       "      <td>0.000000</td>\n",
       "      <td>0.000000</td>\n",
       "      <td>0.000000</td>\n",
       "      <td>77.000000</td>\n",
       "      <td>23.000000</td>\n",
       "      <td>0.000000</td>\n",
       "      <td>0.000000</td>\n",
       "      <td>...</td>\n",
       "      <td>0.000000</td>\n",
       "      <td>0.000000</td>\n",
       "      <td>0.000000</td>\n",
       "      <td>0.000000</td>\n",
       "      <td>0.000000</td>\n",
       "      <td>0.000000</td>\n",
       "      <td>0.000000</td>\n",
       "      <td>0.000000</td>\n",
       "      <td>0.000000</td>\n",
       "      <td>0.000000</td>\n",
       "    </tr>\n",
       "    <tr>\n",
       "      <th>50%</th>\n",
       "      <td>1.000000</td>\n",
       "      <td>44.000000</td>\n",
       "      <td>0.000000</td>\n",
       "      <td>0.000000</td>\n",
       "      <td>1.000000</td>\n",
       "      <td>1.000000</td>\n",
       "      <td>91.000000</td>\n",
       "      <td>28.000000</td>\n",
       "      <td>0.000000</td>\n",
       "      <td>0.000000</td>\n",
       "      <td>...</td>\n",
       "      <td>0.000000</td>\n",
       "      <td>0.000000</td>\n",
       "      <td>1.000000</td>\n",
       "      <td>0.000000</td>\n",
       "      <td>0.000000</td>\n",
       "      <td>0.000000</td>\n",
       "      <td>0.000000</td>\n",
       "      <td>0.000000</td>\n",
       "      <td>0.000000</td>\n",
       "      <td>0.000000</td>\n",
       "    </tr>\n",
       "    <tr>\n",
       "      <th>75%</th>\n",
       "      <td>1.000000</td>\n",
       "      <td>60.000000</td>\n",
       "      <td>0.000000</td>\n",
       "      <td>0.000000</td>\n",
       "      <td>1.000000</td>\n",
       "      <td>1.000000</td>\n",
       "      <td>113.000000</td>\n",
       "      <td>33.000000</td>\n",
       "      <td>1.000000</td>\n",
       "      <td>0.000000</td>\n",
       "      <td>...</td>\n",
       "      <td>0.000000</td>\n",
       "      <td>0.000000</td>\n",
       "      <td>1.000000</td>\n",
       "      <td>0.000000</td>\n",
       "      <td>0.000000</td>\n",
       "      <td>1.000000</td>\n",
       "      <td>0.000000</td>\n",
       "      <td>0.250000</td>\n",
       "      <td>0.000000</td>\n",
       "      <td>0.000000</td>\n",
       "    </tr>\n",
       "    <tr>\n",
       "      <th>max</th>\n",
       "      <td>1.000000</td>\n",
       "      <td>82.000000</td>\n",
       "      <td>1.000000</td>\n",
       "      <td>1.000000</td>\n",
       "      <td>1.000000</td>\n",
       "      <td>1.000000</td>\n",
       "      <td>271.000000</td>\n",
       "      <td>97.000000</td>\n",
       "      <td>1.000000</td>\n",
       "      <td>1.000000</td>\n",
       "      <td>...</td>\n",
       "      <td>1.000000</td>\n",
       "      <td>1.000000</td>\n",
       "      <td>1.000000</td>\n",
       "      <td>1.000000</td>\n",
       "      <td>1.000000</td>\n",
       "      <td>1.000000</td>\n",
       "      <td>1.000000</td>\n",
       "      <td>1.000000</td>\n",
       "      <td>1.000000</td>\n",
       "      <td>1.000000</td>\n",
       "    </tr>\n",
       "  </tbody>\n",
       "</table>\n",
       "<p>8 rows × 25 columns</p>\n",
       "</div>"
      ],
      "text/plain": [
       "            gender          age  hypertension  heart_disease  ever_married  \\\n",
       "count  4908.000000  4908.000000   4908.000000    4908.000000   4908.000000   \n",
       "mean      0.590261    42.857579      0.091891       0.049511      0.652812   \n",
       "std       0.491836    22.577004      0.288901       0.216954      0.476125   \n",
       "min       0.000000     0.000000      0.000000       0.000000      0.000000   \n",
       "25%       0.000000    25.000000      0.000000       0.000000      0.000000   \n",
       "50%       1.000000    44.000000      0.000000       0.000000      1.000000   \n",
       "75%       1.000000    60.000000      0.000000       0.000000      1.000000   \n",
       "max       1.000000    82.000000      1.000000       1.000000      1.000000   \n",
       "\n",
       "       Residence_type  avg_glucose_level          bmi        obese  \\\n",
       "count     4908.000000        4908.000000  4908.000000  4908.000000   \n",
       "mean         0.507335         104.808272    28.449878     0.385697   \n",
       "std          0.499997          44.418565     7.844093     0.486809   \n",
       "min          0.000000          55.000000    10.000000     0.000000   \n",
       "25%          0.000000          77.000000    23.000000     0.000000   \n",
       "50%          1.000000          91.000000    28.000000     0.000000   \n",
       "75%          1.000000         113.000000    33.000000     1.000000   \n",
       "max          1.000000         271.000000    97.000000     1.000000   \n",
       "\n",
       "       high_blood_sugar  ...  work_type_Govt_job  work_type_Never_worked  \\\n",
       "count       4908.000000  ...         4908.000000             4908.000000   \n",
       "mean           0.173798  ...            0.128362                0.004482   \n",
       "std            0.378974  ...            0.334526                0.066808   \n",
       "min            0.000000  ...            0.000000                0.000000   \n",
       "25%            0.000000  ...            0.000000                0.000000   \n",
       "50%            0.000000  ...            0.000000                0.000000   \n",
       "75%            0.000000  ...            0.000000                0.000000   \n",
       "max            1.000000  ...            1.000000                1.000000   \n",
       "\n",
       "       work_type_Private  work_type_Self-employed  work_type_children  \\\n",
       "count        4908.000000              4908.000000         4908.000000   \n",
       "mean            0.572535                 0.157905            0.136716   \n",
       "std             0.494761                 0.364689            0.343582   \n",
       "min             0.000000                 0.000000            0.000000   \n",
       "25%             0.000000                 0.000000            0.000000   \n",
       "50%             1.000000                 0.000000            0.000000   \n",
       "75%             1.000000                 0.000000            0.000000   \n",
       "max             1.000000                 1.000000            1.000000   \n",
       "\n",
       "         age_bin_0    age_bin_1    age_bin_2    age_bin_3       stroke  \n",
       "count  4908.000000  4908.000000  4908.000000  4908.000000  4908.000000  \n",
       "mean      0.257539     0.244499     0.250000     0.247963     0.042584  \n",
       "std       0.437323     0.429833     0.433057     0.431874     0.201937  \n",
       "min       0.000000     0.000000     0.000000     0.000000     0.000000  \n",
       "25%       0.000000     0.000000     0.000000     0.000000     0.000000  \n",
       "50%       0.000000     0.000000     0.000000     0.000000     0.000000  \n",
       "75%       1.000000     0.000000     0.250000     0.000000     0.000000  \n",
       "max       1.000000     1.000000     1.000000     1.000000     1.000000  \n",
       "\n",
       "[8 rows x 25 columns]"
      ]
     },
     "execution_count": 11,
     "metadata": {},
     "output_type": "execute_result"
    }
   ],
   "source": [
    "df.describe()"
   ]
  },
  {
   "cell_type": "code",
   "execution_count": 12,
   "metadata": {},
   "outputs": [
    {
     "data": {
      "text/plain": [
       "0    4699\n",
       "1     209\n",
       "Name: stroke, dtype: int64"
      ]
     },
     "execution_count": 12,
     "metadata": {},
     "output_type": "execute_result"
    }
   ],
   "source": [
    "# The vast majority of units in the dataset do not have stroke. Hence, we see an imbalance in the data.\n",
    "df_trunc['stroke'].value_counts()"
   ]
  },
  {
   "cell_type": "code",
   "execution_count": 13,
   "metadata": {
    "scrolled": false
   },
   "outputs": [
    {
     "data": {
      "text/html": [
       "<div>\n",
       "<style scoped>\n",
       "    .dataframe tbody tr th:only-of-type {\n",
       "        vertical-align: middle;\n",
       "    }\n",
       "\n",
       "    .dataframe tbody tr th {\n",
       "        vertical-align: top;\n",
       "    }\n",
       "\n",
       "    .dataframe thead th {\n",
       "        text-align: right;\n",
       "    }\n",
       "</style>\n",
       "<table border=\"1\" class=\"dataframe\">\n",
       "  <thead>\n",
       "    <tr style=\"text-align: right;\">\n",
       "      <th></th>\n",
       "      <th>gender</th>\n",
       "      <th>hypertension</th>\n",
       "      <th>heart_disease</th>\n",
       "      <th>ever_married</th>\n",
       "      <th>Residence_type</th>\n",
       "      <th>obese</th>\n",
       "      <th>high_blood_sugar</th>\n",
       "      <th>smoking_status_Unknown</th>\n",
       "      <th>smoking_status_formerly smoked</th>\n",
       "      <th>smoking_status_never smoked</th>\n",
       "      <th>smoking_status_smokes</th>\n",
       "      <th>work_type_Govt_job</th>\n",
       "      <th>work_type_Never_worked</th>\n",
       "      <th>work_type_Private</th>\n",
       "      <th>work_type_children</th>\n",
       "      <th>age_bin_0</th>\n",
       "      <th>age_bin_1</th>\n",
       "      <th>age_bin_2</th>\n",
       "      <th>age_bin_3</th>\n",
       "      <th>stroke</th>\n",
       "    </tr>\n",
       "  </thead>\n",
       "  <tbody>\n",
       "    <tr>\n",
       "      <th>0</th>\n",
       "      <td>2011</td>\n",
       "      <td>4457</td>\n",
       "      <td>4665</td>\n",
       "      <td>1704</td>\n",
       "      <td>2418</td>\n",
       "      <td>3015</td>\n",
       "      <td>4055</td>\n",
       "      <td>3425</td>\n",
       "      <td>4072</td>\n",
       "      <td>3056</td>\n",
       "      <td>4171</td>\n",
       "      <td>4278</td>\n",
       "      <td>4886</td>\n",
       "      <td>2098</td>\n",
       "      <td>4237</td>\n",
       "      <td>3644</td>\n",
       "      <td>3708</td>\n",
       "      <td>3681</td>\n",
       "      <td>3691</td>\n",
       "      <td>4699</td>\n",
       "    </tr>\n",
       "    <tr>\n",
       "      <th>1</th>\n",
       "      <td>2897</td>\n",
       "      <td>451</td>\n",
       "      <td>243</td>\n",
       "      <td>3204</td>\n",
       "      <td>2490</td>\n",
       "      <td>1893</td>\n",
       "      <td>853</td>\n",
       "      <td>1483</td>\n",
       "      <td>836</td>\n",
       "      <td>1852</td>\n",
       "      <td>737</td>\n",
       "      <td>630</td>\n",
       "      <td>22</td>\n",
       "      <td>2810</td>\n",
       "      <td>671</td>\n",
       "      <td>1264</td>\n",
       "      <td>1200</td>\n",
       "      <td>1227</td>\n",
       "      <td>1217</td>\n",
       "      <td>209</td>\n",
       "    </tr>\n",
       "  </tbody>\n",
       "</table>\n",
       "</div>"
      ],
      "text/plain": [
       "   gender  hypertension  heart_disease  ever_married  Residence_type  obese  \\\n",
       "0    2011          4457           4665          1704            2418   3015   \n",
       "1    2897           451            243          3204            2490   1893   \n",
       "\n",
       "   high_blood_sugar  smoking_status_Unknown  smoking_status_formerly smoked  \\\n",
       "0              4055                    3425                            4072   \n",
       "1               853                    1483                             836   \n",
       "\n",
       "   smoking_status_never smoked  smoking_status_smokes  work_type_Govt_job  \\\n",
       "0                         3056                   4171                4278   \n",
       "1                         1852                    737                 630   \n",
       "\n",
       "   work_type_Never_worked  work_type_Private  work_type_children  age_bin_0  \\\n",
       "0                    4886               2098                4237       3644   \n",
       "1                      22               2810                 671       1264   \n",
       "\n",
       "   age_bin_1  age_bin_2  age_bin_3  stroke  \n",
       "0       3708       3681       3691    4699  \n",
       "1       1200       1227       1217     209  "
      ]
     },
     "execution_count": 13,
     "metadata": {},
     "output_type": "execute_result"
    }
   ],
   "source": [
    "df_trunc.apply(pd.Series.value_counts)"
   ]
  },
  {
   "cell_type": "markdown",
   "metadata": {},
   "source": [
    "For treatment variables such as hypertension, heart_disease, and certain work_types, we see imbalance between the treatment and control groups. Hence, I will choose to run the FLAME algorithm with repeats=True."
   ]
  },
  {
   "cell_type": "code",
   "execution_count": 15,
   "metadata": {},
   "outputs": [],
   "source": [
    "# creating count tables to explore each categorical feature.\n",
    "heart = df_trunc.groupby(['heart_disease', 'stroke']).agg({'stroke': 'count'}).rename(columns = {'stroke': 'count'}).reset_index()\n",
    "heart.iloc[[0,1], 0] = 'No heart diseases'\n",
    "heart.iloc[[2,3], 0] = 'Heart diseases'\n",
    "heart.iloc[[0,2], 1] = \"Didn't have a stroke\"\n",
    "heart.iloc[[1,3], 1] = \"Had a stroke\"\n",
    "\n",
    "g = df_trunc.groupby(['gender', 'stroke']).agg({'stroke': 'count'}).rename(columns = {'stroke': 'count'}).reset_index()\n",
    "g.iloc[[0,1], 0] = 'Male'\n",
    "g.iloc[[2,3], 0] = 'Female'\n",
    "g.iloc[[0,2], 1] = \"Didn't have a stroke\"\n",
    "g.iloc[[1,3], 1] = \"Had a stroke\"\n",
    "\n",
    "\n",
    "marry = df_trunc.groupby(['ever_married', 'stroke']).agg({'stroke': 'count'}).rename(columns = {'stroke': 'count'}).reset_index()\n",
    "marry.iloc[[0,1], 0] = 'Not ever married'\n",
    "marry.iloc[[2,3], 0] = 'married (or previously)'\n",
    "marry.iloc[[0,2], 1] = \"Didn't have a stroke\"\n",
    "marry.iloc[[1,3], 1] = \"Had a stroke\"\n",
    "\n",
    "hbs = df_trunc.groupby(['high_blood_sugar', 'stroke']).agg({'stroke': 'count'}).rename(columns = {'stroke': 'count'}).reset_index()\n",
    "hbs.iloc[[0,1], 0] = 'No High Blood Sugar'\n",
    "hbs.iloc[[2,3], 0] = 'High Blood Sugar'\n",
    "hbs.iloc[[0,2], 1] = \"Didn't have a stroke\"\n",
    "hbs.iloc[[1,3], 1] = \"Had a stroke\"\n",
    "\n",
    "htn = df_trunc.groupby(['hypertension', 'stroke']).agg({'stroke': 'count'}).rename(columns = {'stroke': 'count'}).reset_index()\n",
    "htn.iloc[[0,1], 0] = 'No Hypertension'\n",
    "htn.iloc[[2,3], 0] = 'Hypertension'\n",
    "htn.iloc[[0,2], 1] = \"Didn't have a stroke\"\n",
    "htn.iloc[[1,3], 1] = \"Had a stroke\"\n"
   ]
  },
  {
   "cell_type": "code",
   "execution_count": 17,
   "metadata": {},
   "outputs": [
    {
     "data": {
      "text/plain": [
       "<Figure size 864x4320 with 0 Axes>"
      ]
     },
     "metadata": {},
     "output_type": "display_data"
    }
   ],
   "source": [
    "fig = plt.figure(figsize = (12, 60))\n",
    "fig.patch.set_facecolor('#fafafa')"
   ]
  },
  {
   "cell_type": "code",
   "execution_count": 20,
   "metadata": {},
   "outputs": [
    {
     "data": {
      "image/png": "[encoded data removed]",
      "text/plain": [
       "<Figure size 432x288 with 1 Axes>"
      ]
     },
     "metadata": {},
     "output_type": "display_data"
    },
    {
     "data": {
      "image/png": "[encoded data removed]",
      "text/plain": [
       "<Figure size 432x288 with 1 Axes>"
      ]
     },
     "metadata": {},
     "output_type": "display_data"
    },
    {
     "data": {
      "image/png": "[encoded data removed]",
      "text/plain": [
       "<Figure size 432x288 with 1 Axes>"
      ]
     },
     "metadata": {},
     "output_type": "display_data"
    },
    {
     "data": {
      "image/png": "[encoded data removed]",
      "text/plain": [
       "<Figure size 432x288 with 1 Axes>"
      ]
     },
     "metadata": {},
     "output_type": "display_data"
    },
    {
     "data": {
      "image/png": "[encoded data removed]",
      "text/plain": [
       "<Figure size 432x288 with 1 Axes>"
      ]
     },
     "metadata": {},
     "output_type": "display_data"
    }
   ],
   "source": [
    "# bar plots of select categorical variables.\n",
    "sns.set_style('white')\n",
    "plt.title('Gender', size = 20, x = 0.49, y = 1.00)\n",
    "plt.grid(color = 'gray', linestyle = ':', axis = 'y', zorder = 0,  dashes = (1,7))\n",
    "c = sns.barplot(data = heart, x = g['gender'], y = g['count'], hue = g['stroke'], palette = ['#1092c9','orange'])\n",
    "plt.ylabel('')\n",
    "plt.xlabel('')\n",
    "plt.legend(loc = 'upper left')\n",
    "plt.show()\n",
    "\n",
    "sns.set_style('white')\n",
    "plt.title('Heart disease', size = 20, x = 0.49, y = 1.00)\n",
    "plt.grid(color = 'gray', linestyle = ':', axis = 'y', zorder = 0,  dashes = (1,7))\n",
    "c = sns.barplot(data = heart, x = heart['heart_disease'], y = heart['count'], hue = heart['stroke'], palette = ['#1092c9','orange'])\n",
    "plt.ylabel('')\n",
    "plt.xlabel('')\n",
    "plt.legend(loc = 'upper left')\n",
    "plt.show()\n",
    "\n",
    "sns.set_style('white')\n",
    "plt.title('Ever_married', size = 20, x = 0.49, y = 1.00)\n",
    "plt.grid(color = 'gray', linestyle = ':', axis = 'y', zorder = 0,  dashes = (1,7))\n",
    "c = sns.barplot(data = heart, x = marry['ever_married'], y = marry['count'], hue = marry['stroke'], palette = ['#1092c9','orange'])\n",
    "plt.ylabel('')\n",
    "plt.xlabel('')\n",
    "plt.legend(loc = 'upper left')\n",
    "plt.show()\n",
    "\n",
    "sns.set_style('white')\n",
    "plt.title('High Blood Sugar', size = 20, x = 0.49, y = 1.00)\n",
    "plt.grid(color = 'gray', linestyle = ':', axis = 'y', zorder = 0,  dashes = (1,7))\n",
    "c = sns.barplot(data = heart, x = hbs['high_blood_sugar'], y = hbs['count'], hue = hbs['stroke'], palette = ['#1092c9','orange'])\n",
    "plt.ylabel('')\n",
    "plt.xlabel('')\n",
    "plt.legend(loc = 'upper left')\n",
    "plt.show()\n",
    "\n",
    "sns.set_style('white')\n",
    "plt.title('Hypertension', size = 20, x = 0.49, y = 1.00)\n",
    "plt.grid(color = 'gray', linestyle = ':', axis = 'y', zorder = 0,  dashes = (1,7))\n",
    "c = sns.barplot(data = heart, x = htn['hypertension'], y = htn['count'], hue = htn['stroke'], palette = ['#1092c9','orange'])\n",
    "plt.ylabel('')\n",
    "plt.xlabel('')\n",
    "plt.legend(loc = 'upper left')\n",
    "plt.show()\n",
    "\n"
   ]
  },
  {
   "cell_type": "code",
   "execution_count": 158,
   "metadata": {},
   "outputs": [
    {
     "data": {
      "text/plain": [
       "<matplotlib.legend.Legend at 0x11b8385b0>"
      ]
     },
     "execution_count": 158,
     "metadata": {},
     "output_type": "execute_result"
    },
    {
     "data": {
      "image/png": "[encoded data removed]",
      "text/plain": [
       "<Figure size 1296x1296 with 3 Axes>"
      ]
     },
     "metadata": {},
     "output_type": "display_data"
    }
   ],
   "source": [
    "# Continuous Variables By Stroke\n",
    "\n",
    "fig = plt.figure(figsize = (18, 18))\n",
    "fig.patch.set_facecolor('#fafafa')\n",
    "\n",
    "plt.subplot(221)\n",
    "plt.title('Body mass index', size = 20)\n",
    "sns.kdeplot(sk_with_outcome.query('stroke == 1')['bmi'], color = 'orange', shade = True, label = 'Had a stroke', alpha = 0.5)\n",
    "sns.kdeplot(sk_with_outcome.query('stroke == 0')['bmi'], color = '#1092c9', shade = True, label = \"Didn't have a stroke\", alpha = 0.5)\n",
    "plt.grid(color = 'gray', linestyle = ':', axis = 'x', zorder = 0,  dashes = (1,7))\n",
    "plt.ylabel('')\n",
    "plt.xlabel('')\n",
    "plt.yticks([])\n",
    "plt.legend(loc = 'upper right')\n",
    "\n",
    "plt.subplot(222)\n",
    "plt.title('Glucose level', size = 20)\n",
    "sns.kdeplot(sk_with_outcome.query('stroke == 1')['avg_glucose_level'], color = 'orange', shade = True, label = 'Had a stroke', alpha = 0.5)\n",
    "sns.kdeplot(sk_with_outcome.query('stroke == 0')['avg_glucose_level'], color = '#1092c9', shade = True, label = \"Didn't have a stroke\", alpha = 0.5)\n",
    "plt.grid(color = 'gray', linestyle = ':', axis = 'x', zorder = 0,  dashes = (1,7))\n",
    "plt.ylabel('')\n",
    "plt.xlabel('')\n",
    "plt.yticks([])\n",
    "plt.legend(loc = 'upper right')\n",
    "\n",
    "plt.subplot(223)\n",
    "sns.set_style(\"dark\")\n",
    "plt.title('Age', size = 20)\n",
    "sns.kdeplot(sk_with_outcome.query('stroke == 1')['age'], color = 'orange', shade = True, label = 'Had a stroke', alpha = 0.5)\n",
    "sns.kdeplot(sk_with_outcome.query('stroke == 0')['age'], color = '#1092c9', shade = True, label = \"Didn't have a stroke\", alpha = 0.5)\n",
    "plt.grid(color = 'gray', linestyle = ':', axis = 'x', zorder = 0,  dashes = (1,7))\n",
    "plt.ylabel('')\n",
    "plt.xlabel('')\n",
    "plt.yticks([])\n",
    "plt.legend(loc = 'upper left')"
   ]
  },
  {
   "cell_type": "markdown",
   "metadata": {},
   "source": [
    "### Conditions for Matching\n",
    "\n",
    "In order to use matching, a series of assumptions on the data must be satisfied. First, we assume that treatments applied to one unit should not affect the outcome of another unit. Assuming that the subjects in the dataset were drawn independently from the general population, then the treatment of one subject in the dataset should not affect the outcome of another subject. Next, the unconfoundedness assumption must be satisfied. Here, we assume that no confounding covariates that are important in determining stroke have been left out from the dataset. This is a reasonable assumption, as our stroke dataset includes the major clinical factors used in stroke predictions in past studies (hypertension, age, and heart disease). Finally, the dataset must not contain overlap in the treatment and control groups. This is not a problem, as the FLAME algorithm would not make matches in that case, and no treatment effect estimate would be possible."
   ]
  },
  {
   "cell_type": "markdown",
   "metadata": {},
   "source": [
    "# THE FLAME ALGORITHM"
   ]
  },
  {
   "cell_type": "markdown",
   "metadata": {},
   "source": [
    "In this example, I will use the \"heart_disease\" feature as the treatment variable for outcome of stroke."
   ]
  },
  {
   "cell_type": "code",
   "execution_count": 24,
   "metadata": {},
   "outputs": [
    {
     "data": {
      "text/html": [
       "<div>\n",
       "<style scoped>\n",
       "    .dataframe tbody tr th:only-of-type {\n",
       "        vertical-align: middle;\n",
       "    }\n",
       "\n",
       "    .dataframe tbody tr th {\n",
       "        vertical-align: top;\n",
       "    }\n",
       "\n",
       "    .dataframe thead th {\n",
       "        text-align: right;\n",
       "    }\n",
       "</style>\n",
       "<table border=\"1\" class=\"dataframe\">\n",
       "  <thead>\n",
       "    <tr style=\"text-align: right;\">\n",
       "      <th></th>\n",
       "      <th>gender</th>\n",
       "      <th>hypertension</th>\n",
       "      <th>heart_disease</th>\n",
       "      <th>ever_married</th>\n",
       "      <th>Residence_type</th>\n",
       "      <th>obese</th>\n",
       "      <th>high_blood_sugar</th>\n",
       "      <th>smoking_status_Unknown</th>\n",
       "      <th>smoking_status_formerly smoked</th>\n",
       "      <th>smoking_status_never smoked</th>\n",
       "      <th>smoking_status_smokes</th>\n",
       "      <th>work_type_Govt_job</th>\n",
       "      <th>work_type_Never_worked</th>\n",
       "      <th>work_type_Private</th>\n",
       "      <th>work_type_children</th>\n",
       "      <th>age_bin_0</th>\n",
       "      <th>age_bin_1</th>\n",
       "      <th>age_bin_2</th>\n",
       "      <th>age_bin_3</th>\n",
       "      <th>stroke</th>\n",
       "    </tr>\n",
       "  </thead>\n",
       "  <tbody>\n",
       "    <tr>\n",
       "      <th>0</th>\n",
       "      <td>0</td>\n",
       "      <td>0</td>\n",
       "      <td>1</td>\n",
       "      <td>1</td>\n",
       "      <td>1</td>\n",
       "      <td>1</td>\n",
       "      <td>1</td>\n",
       "      <td>0</td>\n",
       "      <td>1</td>\n",
       "      <td>0</td>\n",
       "      <td>0</td>\n",
       "      <td>0</td>\n",
       "      <td>0</td>\n",
       "      <td>1</td>\n",
       "      <td>0</td>\n",
       "      <td>0</td>\n",
       "      <td>0</td>\n",
       "      <td>0</td>\n",
       "      <td>1</td>\n",
       "      <td>1</td>\n",
       "    </tr>\n",
       "    <tr>\n",
       "      <th>2</th>\n",
       "      <td>0</td>\n",
       "      <td>0</td>\n",
       "      <td>1</td>\n",
       "      <td>1</td>\n",
       "      <td>0</td>\n",
       "      <td>1</td>\n",
       "      <td>0</td>\n",
       "      <td>0</td>\n",
       "      <td>0</td>\n",
       "      <td>1</td>\n",
       "      <td>0</td>\n",
       "      <td>0</td>\n",
       "      <td>0</td>\n",
       "      <td>1</td>\n",
       "      <td>0</td>\n",
       "      <td>0</td>\n",
       "      <td>0</td>\n",
       "      <td>0</td>\n",
       "      <td>1</td>\n",
       "      <td>1</td>\n",
       "    </tr>\n",
       "    <tr>\n",
       "      <th>3</th>\n",
       "      <td>1</td>\n",
       "      <td>0</td>\n",
       "      <td>0</td>\n",
       "      <td>1</td>\n",
       "      <td>1</td>\n",
       "      <td>1</td>\n",
       "      <td>1</td>\n",
       "      <td>0</td>\n",
       "      <td>0</td>\n",
       "      <td>0</td>\n",
       "      <td>1</td>\n",
       "      <td>0</td>\n",
       "      <td>0</td>\n",
       "      <td>1</td>\n",
       "      <td>0</td>\n",
       "      <td>0</td>\n",
       "      <td>0</td>\n",
       "      <td>1</td>\n",
       "      <td>0</td>\n",
       "      <td>1</td>\n",
       "    </tr>\n",
       "    <tr>\n",
       "      <th>4</th>\n",
       "      <td>1</td>\n",
       "      <td>1</td>\n",
       "      <td>0</td>\n",
       "      <td>1</td>\n",
       "      <td>0</td>\n",
       "      <td>0</td>\n",
       "      <td>1</td>\n",
       "      <td>0</td>\n",
       "      <td>0</td>\n",
       "      <td>1</td>\n",
       "      <td>0</td>\n",
       "      <td>0</td>\n",
       "      <td>0</td>\n",
       "      <td>0</td>\n",
       "      <td>0</td>\n",
       "      <td>0</td>\n",
       "      <td>0</td>\n",
       "      <td>0</td>\n",
       "      <td>1</td>\n",
       "      <td>1</td>\n",
       "    </tr>\n",
       "    <tr>\n",
       "      <th>5</th>\n",
       "      <td>0</td>\n",
       "      <td>0</td>\n",
       "      <td>0</td>\n",
       "      <td>1</td>\n",
       "      <td>1</td>\n",
       "      <td>0</td>\n",
       "      <td>1</td>\n",
       "      <td>0</td>\n",
       "      <td>1</td>\n",
       "      <td>0</td>\n",
       "      <td>0</td>\n",
       "      <td>0</td>\n",
       "      <td>0</td>\n",
       "      <td>1</td>\n",
       "      <td>0</td>\n",
       "      <td>0</td>\n",
       "      <td>0</td>\n",
       "      <td>0</td>\n",
       "      <td>1</td>\n",
       "      <td>1</td>\n",
       "    </tr>\n",
       "    <tr>\n",
       "      <th>...</th>\n",
       "      <td>...</td>\n",
       "      <td>...</td>\n",
       "      <td>...</td>\n",
       "      <td>...</td>\n",
       "      <td>...</td>\n",
       "      <td>...</td>\n",
       "      <td>...</td>\n",
       "      <td>...</td>\n",
       "      <td>...</td>\n",
       "      <td>...</td>\n",
       "      <td>...</td>\n",
       "      <td>...</td>\n",
       "      <td>...</td>\n",
       "      <td>...</td>\n",
       "      <td>...</td>\n",
       "      <td>...</td>\n",
       "      <td>...</td>\n",
       "      <td>...</td>\n",
       "      <td>...</td>\n",
       "      <td>...</td>\n",
       "    </tr>\n",
       "    <tr>\n",
       "      <th>5104</th>\n",
       "      <td>1</td>\n",
       "      <td>0</td>\n",
       "      <td>0</td>\n",
       "      <td>0</td>\n",
       "      <td>0</td>\n",
       "      <td>0</td>\n",
       "      <td>0</td>\n",
       "      <td>1</td>\n",
       "      <td>0</td>\n",
       "      <td>0</td>\n",
       "      <td>0</td>\n",
       "      <td>0</td>\n",
       "      <td>0</td>\n",
       "      <td>0</td>\n",
       "      <td>1</td>\n",
       "      <td>1</td>\n",
       "      <td>0</td>\n",
       "      <td>0</td>\n",
       "      <td>0</td>\n",
       "      <td>0</td>\n",
       "    </tr>\n",
       "    <tr>\n",
       "      <th>5106</th>\n",
       "      <td>1</td>\n",
       "      <td>0</td>\n",
       "      <td>0</td>\n",
       "      <td>1</td>\n",
       "      <td>1</td>\n",
       "      <td>1</td>\n",
       "      <td>0</td>\n",
       "      <td>0</td>\n",
       "      <td>0</td>\n",
       "      <td>1</td>\n",
       "      <td>0</td>\n",
       "      <td>0</td>\n",
       "      <td>0</td>\n",
       "      <td>0</td>\n",
       "      <td>0</td>\n",
       "      <td>0</td>\n",
       "      <td>0</td>\n",
       "      <td>0</td>\n",
       "      <td>1</td>\n",
       "      <td>0</td>\n",
       "    </tr>\n",
       "    <tr>\n",
       "      <th>5107</th>\n",
       "      <td>1</td>\n",
       "      <td>0</td>\n",
       "      <td>0</td>\n",
       "      <td>1</td>\n",
       "      <td>0</td>\n",
       "      <td>1</td>\n",
       "      <td>0</td>\n",
       "      <td>0</td>\n",
       "      <td>0</td>\n",
       "      <td>1</td>\n",
       "      <td>0</td>\n",
       "      <td>0</td>\n",
       "      <td>0</td>\n",
       "      <td>0</td>\n",
       "      <td>0</td>\n",
       "      <td>0</td>\n",
       "      <td>1</td>\n",
       "      <td>0</td>\n",
       "      <td>0</td>\n",
       "      <td>0</td>\n",
       "    </tr>\n",
       "    <tr>\n",
       "      <th>5108</th>\n",
       "      <td>0</td>\n",
       "      <td>0</td>\n",
       "      <td>0</td>\n",
       "      <td>1</td>\n",
       "      <td>0</td>\n",
       "      <td>0</td>\n",
       "      <td>1</td>\n",
       "      <td>0</td>\n",
       "      <td>1</td>\n",
       "      <td>0</td>\n",
       "      <td>0</td>\n",
       "      <td>0</td>\n",
       "      <td>0</td>\n",
       "      <td>1</td>\n",
       "      <td>0</td>\n",
       "      <td>0</td>\n",
       "      <td>0</td>\n",
       "      <td>1</td>\n",
       "      <td>0</td>\n",
       "      <td>0</td>\n",
       "    </tr>\n",
       "    <tr>\n",
       "      <th>5109</th>\n",
       "      <td>1</td>\n",
       "      <td>0</td>\n",
       "      <td>0</td>\n",
       "      <td>1</td>\n",
       "      <td>1</td>\n",
       "      <td>0</td>\n",
       "      <td>0</td>\n",
       "      <td>1</td>\n",
       "      <td>0</td>\n",
       "      <td>0</td>\n",
       "      <td>0</td>\n",
       "      <td>1</td>\n",
       "      <td>0</td>\n",
       "      <td>0</td>\n",
       "      <td>0</td>\n",
       "      <td>0</td>\n",
       "      <td>1</td>\n",
       "      <td>0</td>\n",
       "      <td>0</td>\n",
       "      <td>0</td>\n",
       "    </tr>\n",
       "  </tbody>\n",
       "</table>\n",
       "<p>4908 rows × 20 columns</p>\n",
       "</div>"
      ],
      "text/plain": [
       "      gender  hypertension  heart_disease  ever_married  Residence_type  \\\n",
       "0          0             0              1             1               1   \n",
       "2          0             0              1             1               0   \n",
       "3          1             0              0             1               1   \n",
       "4          1             1              0             1               0   \n",
       "5          0             0              0             1               1   \n",
       "...      ...           ...            ...           ...             ...   \n",
       "5104       1             0              0             0               0   \n",
       "5106       1             0              0             1               1   \n",
       "5107       1             0              0             1               0   \n",
       "5108       0             0              0             1               0   \n",
       "5109       1             0              0             1               1   \n",
       "\n",
       "      obese  high_blood_sugar  smoking_status_Unknown  \\\n",
       "0         1                 1                       0   \n",
       "2         1                 0                       0   \n",
       "3         1                 1                       0   \n",
       "4         0                 1                       0   \n",
       "5         0                 1                       0   \n",
       "...     ...               ...                     ...   \n",
       "5104      0                 0                       1   \n",
       "5106      1                 0                       0   \n",
       "5107      1                 0                       0   \n",
       "5108      0                 1                       0   \n",
       "5109      0                 0                       1   \n",
       "\n",
       "      smoking_status_formerly smoked  smoking_status_never smoked  \\\n",
       "0                                  1                            0   \n",
       "2                                  0                            1   \n",
       "3                                  0                            0   \n",
       "4                                  0                            1   \n",
       "5                                  1                            0   \n",
       "...                              ...                          ...   \n",
       "5104                               0                            0   \n",
       "5106                               0                            1   \n",
       "5107                               0                            1   \n",
       "5108                               1                            0   \n",
       "5109                               0                            0   \n",
       "\n",
       "      smoking_status_smokes  work_type_Govt_job  work_type_Never_worked  \\\n",
       "0                         0                   0                       0   \n",
       "2                         0                   0                       0   \n",
       "3                         1                   0                       0   \n",
       "4                         0                   0                       0   \n",
       "5                         0                   0                       0   \n",
       "...                     ...                 ...                     ...   \n",
       "5104                      0                   0                       0   \n",
       "5106                      0                   0                       0   \n",
       "5107                      0                   0                       0   \n",
       "5108                      0                   0                       0   \n",
       "5109                      0                   1                       0   \n",
       "\n",
       "      work_type_Private  work_type_children  age_bin_0  age_bin_1  age_bin_2  \\\n",
       "0                     1                   0          0          0          0   \n",
       "2                     1                   0          0          0          0   \n",
       "3                     1                   0          0          0          1   \n",
       "4                     0                   0          0          0          0   \n",
       "5                     1                   0          0          0          0   \n",
       "...                 ...                 ...        ...        ...        ...   \n",
       "5104                  0                   1          1          0          0   \n",
       "5106                  0                   0          0          0          0   \n",
       "5107                  0                   0          0          1          0   \n",
       "5108                  1                   0          0          0          1   \n",
       "5109                  0                   0          0          1          0   \n",
       "\n",
       "      age_bin_3  stroke  \n",
       "0             1       1  \n",
       "2             1       1  \n",
       "3             0       1  \n",
       "4             1       1  \n",
       "5             1       1  \n",
       "...         ...     ...  \n",
       "5104          0       0  \n",
       "5106          1       0  \n",
       "5107          0       0  \n",
       "5108          0       0  \n",
       "5109          0       0  \n",
       "\n",
       "[4908 rows x 20 columns]"
      ]
     },
     "execution_count": 24,
     "metadata": {},
     "output_type": "execute_result"
    }
   ],
   "source": [
    "df_trunc"
   ]
  },
  {
   "cell_type": "code",
   "execution_count": 25,
   "metadata": {},
   "outputs": [],
   "source": [
    "model_flame_HD = dame_flame.matching.FLAME(repeats=True, verbose=3, adaptive_weights='ridge', alpha=0.1, want_pe=True, early_stop_iterations=30)"
   ]
  },
  {
   "cell_type": "code",
   "execution_count": 26,
   "metadata": {
    "scrolled": true
   },
   "outputs": [
    {
     "name": "stdout",
     "output_type": "stream",
     "text": [
      "Iteration number:  1\n",
      "\tNumber of matched groups formed in total:  149\n",
      "\tUnmatched treated units:  42 out of a total of  243 treated units\n",
      "\tUnmatched control units:  3707 out of a total of  4665 control units\n",
      "\tPredictive error of covariates chosen this iteration:  0\n",
      "\tNumber of matches made in this iteration:  1159\n",
      "\tNumber of matches made so far:  1159\n",
      "\tIn this iteration, the covariates dropped are:  set()\n",
      "Iteration number:  2\n",
      "\tNumber of matched groups formed in total:  240\n",
      "\tUnmatched treated units:  21 out of a total of  243 treated units\n",
      "\tUnmatched control units:  3199 out of a total of  4665 control units\n",
      "\tPredictive error of covariates chosen this iteration:  0.15668503347540913\n",
      "\tNumber of matches made in this iteration:  529\n",
      "\tNumber of matches made so far:  1688\n",
      "\tIn this iteration, the covariates dropped are:  Residence_type\n",
      "Iteration number:  3\n",
      "\tNumber of matched groups formed in total:  303\n",
      "\tUnmatched treated units:  3 out of a total of  243 treated units\n",
      "\tUnmatched control units:  3083 out of a total of  4665 control units\n",
      "\tPredictive error of covariates chosen this iteration:  0.15674056341484335\n",
      "\tNumber of matches made in this iteration:  663\n",
      "\tNumber of matches made so far:  1822\n",
      "\tIn this iteration, the covariates dropped are:  ever_married\n",
      "Iteration number:  4\n",
      "\tNumber of matched groups formed in total:  357\n",
      "\tUnmatched treated units:  0 out of a total of  243 treated units\n",
      "\tUnmatched control units:  2814 out of a total of  4665 control units\n",
      "\tPredictive error of covariates chosen this iteration:  0.15701344571940964\n",
      "\tNumber of matches made in this iteration:  935\n",
      "\tNumber of matches made so far:  2094\n",
      "\tIn this iteration, the covariates dropped are:  hypertension\n",
      "Iteration number:  5\n",
      "\tNumber of matched groups formed in total:  396\n",
      "\tUnmatched treated units:  0 out of a total of  243 treated units\n",
      "\tUnmatched control units:  1962 out of a total of  4665 control units\n",
      "\tPredictive error of covariates chosen this iteration:  0.15711090991599586\n",
      "\tNumber of matches made in this iteration:  1787\n",
      "\tNumber of matches made so far:  2946\n",
      "\tIn this iteration, the covariates dropped are:  gender\n",
      "Iteration number:  6\n",
      "\tNumber of matched groups formed in total:  409\n",
      "\tUnmatched treated units:  0 out of a total of  243 treated units\n",
      "\tUnmatched control units:  1457 out of a total of  4665 control units\n",
      "\tPredictive error of covariates chosen this iteration:  0.1575853151159725\n",
      "\tNumber of matches made in this iteration:  2292\n",
      "\tNumber of matches made so far:  3451\n",
      "\tIn this iteration, the covariates dropped are:  obese\n",
      "Iteration number:  7\n",
      "\tNumber of matched groups formed in total:  419\n",
      "\tUnmatched treated units:  0 out of a total of  243 treated units\n",
      "\tUnmatched control units:  1158 out of a total of  4665 control units\n",
      "\tPredictive error of covariates chosen this iteration:  0.16079854654304188\n",
      "\tNumber of matches made in this iteration:  2591\n",
      "\tNumber of matches made so far:  3750\n",
      "\tIn this iteration, the covariates dropped are:  high_blood_sugar\n",
      "Iteration number:  8\n",
      "\tNumber of matched groups formed in total:  423\n",
      "\tUnmatched treated units:  0 out of a total of  243 treated units\n",
      "\tUnmatched control units:  1034 out of a total of  4665 control units\n",
      "\tPredictive error of covariates chosen this iteration:  0.1627775136872852\n",
      "\tNumber of matches made in this iteration:  2715\n",
      "\tNumber of matches made so far:  3874\n",
      "\tIn this iteration, the covariates dropped are:  work_type_Govt_job\n",
      "Iteration number:  9\n",
      "\tNumber of matched groups formed in total:  426\n",
      "\tUnmatched treated units:  0 out of a total of  243 treated units\n",
      "\tUnmatched control units:  661 out of a total of  4665 control units\n",
      "\tPredictive error of covariates chosen this iteration:  0.16484524762384592\n",
      "\tNumber of matches made in this iteration:  3088\n",
      "\tNumber of matches made so far:  4247\n",
      "\tIn this iteration, the covariates dropped are:  work_type_Private\n",
      "Iteration number:  10\n",
      "\tNumber of matched groups formed in total:  427\n",
      "\tUnmatched treated units:  0 out of a total of  243 treated units\n",
      "\tUnmatched control units:  486 out of a total of  4665 control units\n",
      "\tPredictive error of covariates chosen this iteration:  0.16484833949497396\n",
      "\tNumber of matches made in this iteration:  3263\n",
      "\tNumber of matches made so far:  4422\n",
      "\tIn this iteration, the covariates dropped are:  work_type_children\n",
      "Iteration number:  11\n",
      "\tNumber of matched groups formed in total:  428\n",
      "\tUnmatched treated units:  0 out of a total of  243 treated units\n",
      "\tUnmatched control units:  478 out of a total of  4665 control units\n",
      "\tPredictive error of covariates chosen this iteration:  0.16484837910434214\n",
      "\tNumber of matches made in this iteration:  3271\n",
      "\tNumber of matches made so far:  4430\n",
      "\tIn this iteration, the covariates dropped are:  work_type_Never_worked\n",
      "Iteration number:  12\n",
      "\tNumber of matched groups formed in total:  428\n",
      "\tUnmatched treated units:  0 out of a total of  243 treated units\n",
      "\tUnmatched control units:  478 out of a total of  4665 control units\n",
      "\tPredictive error of covariates chosen this iteration:  0.16484835667307013\n",
      "\tNumber of matches made in this iteration:  3271\n",
      "\tNumber of matches made so far:  4430\n",
      "\tIn this iteration, the covariates dropped are:  age_bin_2\n",
      "Iteration number:  13\n",
      "\tNumber of matched groups formed in total:  431\n",
      "\tUnmatched treated units:  0 out of a total of  243 treated units\n",
      "\tUnmatched control units:  0 out of a total of  4665 control units\n",
      "\tPredictive error of covariates chosen this iteration:  0.16502243373652936\n",
      "\tNumber of matches made in this iteration:  3749\n",
      "\tNumber of matches made so far:  4908\n",
      "\tIn this iteration, the covariates dropped are:  age_bin_0\n",
      "All units have been matched.\n"
     ]
    }
   ],
   "source": [
    "model_flame_HD.fit(holdout_data=df_trunc, treatment_column_name='heart_disease', outcome_column_name='stroke')\n",
    "result_flame_HD = model_flame_HD.predict(df_trunc)"
   ]
  },
  {
   "cell_type": "code",
   "execution_count": 27,
   "metadata": {
    "scrolled": true
   },
   "outputs": [
    {
     "data": {
      "text/html": [
       "<div>\n",
       "<style scoped>\n",
       "    .dataframe tbody tr th:only-of-type {\n",
       "        vertical-align: middle;\n",
       "    }\n",
       "\n",
       "    .dataframe tbody tr th {\n",
       "        vertical-align: top;\n",
       "    }\n",
       "\n",
       "    .dataframe thead th {\n",
       "        text-align: right;\n",
       "    }\n",
       "</style>\n",
       "<table border=\"1\" class=\"dataframe\">\n",
       "  <thead>\n",
       "    <tr style=\"text-align: right;\">\n",
       "      <th></th>\n",
       "      <th>gender</th>\n",
       "      <th>hypertension</th>\n",
       "      <th>ever_married</th>\n",
       "      <th>Residence_type</th>\n",
       "      <th>obese</th>\n",
       "      <th>high_blood_sugar</th>\n",
       "      <th>smoking_status_Unknown</th>\n",
       "      <th>smoking_status_formerly smoked</th>\n",
       "      <th>smoking_status_never smoked</th>\n",
       "      <th>smoking_status_smokes</th>\n",
       "      <th>work_type_Govt_job</th>\n",
       "      <th>work_type_Never_worked</th>\n",
       "      <th>work_type_Private</th>\n",
       "      <th>work_type_children</th>\n",
       "      <th>age_bin_0</th>\n",
       "      <th>age_bin_1</th>\n",
       "      <th>age_bin_2</th>\n",
       "      <th>age_bin_3</th>\n",
       "    </tr>\n",
       "  </thead>\n",
       "  <tbody>\n",
       "    <tr>\n",
       "      <th>0</th>\n",
       "      <td>0</td>\n",
       "      <td>0</td>\n",
       "      <td>1</td>\n",
       "      <td>1</td>\n",
       "      <td>1</td>\n",
       "      <td>1</td>\n",
       "      <td>0</td>\n",
       "      <td>1</td>\n",
       "      <td>0</td>\n",
       "      <td>0</td>\n",
       "      <td>0</td>\n",
       "      <td>0</td>\n",
       "      <td>1</td>\n",
       "      <td>0</td>\n",
       "      <td>0</td>\n",
       "      <td>0</td>\n",
       "      <td>0</td>\n",
       "      <td>1</td>\n",
       "    </tr>\n",
       "    <tr>\n",
       "      <th>2</th>\n",
       "      <td>0</td>\n",
       "      <td>0</td>\n",
       "      <td>1</td>\n",
       "      <td>0</td>\n",
       "      <td>1</td>\n",
       "      <td>0</td>\n",
       "      <td>0</td>\n",
       "      <td>0</td>\n",
       "      <td>1</td>\n",
       "      <td>0</td>\n",
       "      <td>0</td>\n",
       "      <td>0</td>\n",
       "      <td>1</td>\n",
       "      <td>0</td>\n",
       "      <td>0</td>\n",
       "      <td>0</td>\n",
       "      <td>0</td>\n",
       "      <td>1</td>\n",
       "    </tr>\n",
       "    <tr>\n",
       "      <th>3</th>\n",
       "      <td>1</td>\n",
       "      <td>0</td>\n",
       "      <td>1</td>\n",
       "      <td>1</td>\n",
       "      <td>1</td>\n",
       "      <td>1</td>\n",
       "      <td>0</td>\n",
       "      <td>0</td>\n",
       "      <td>0</td>\n",
       "      <td>1</td>\n",
       "      <td>0</td>\n",
       "      <td>0</td>\n",
       "      <td>1</td>\n",
       "      <td>0</td>\n",
       "      <td>0</td>\n",
       "      <td>0</td>\n",
       "      <td>1</td>\n",
       "      <td>0</td>\n",
       "    </tr>\n",
       "    <tr>\n",
       "      <th>4</th>\n",
       "      <td>1</td>\n",
       "      <td>*</td>\n",
       "      <td>*</td>\n",
       "      <td>*</td>\n",
       "      <td>0</td>\n",
       "      <td>1</td>\n",
       "      <td>0</td>\n",
       "      <td>0</td>\n",
       "      <td>1</td>\n",
       "      <td>0</td>\n",
       "      <td>0</td>\n",
       "      <td>0</td>\n",
       "      <td>0</td>\n",
       "      <td>0</td>\n",
       "      <td>0</td>\n",
       "      <td>0</td>\n",
       "      <td>0</td>\n",
       "      <td>1</td>\n",
       "    </tr>\n",
       "    <tr>\n",
       "      <th>5</th>\n",
       "      <td>0</td>\n",
       "      <td>0</td>\n",
       "      <td>1</td>\n",
       "      <td>1</td>\n",
       "      <td>0</td>\n",
       "      <td>1</td>\n",
       "      <td>0</td>\n",
       "      <td>1</td>\n",
       "      <td>0</td>\n",
       "      <td>0</td>\n",
       "      <td>0</td>\n",
       "      <td>0</td>\n",
       "      <td>1</td>\n",
       "      <td>0</td>\n",
       "      <td>0</td>\n",
       "      <td>0</td>\n",
       "      <td>0</td>\n",
       "      <td>1</td>\n",
       "    </tr>\n",
       "    <tr>\n",
       "      <th>6</th>\n",
       "      <td>0</td>\n",
       "      <td>1</td>\n",
       "      <td>1</td>\n",
       "      <td>0</td>\n",
       "      <td>0</td>\n",
       "      <td>0</td>\n",
       "      <td>0</td>\n",
       "      <td>0</td>\n",
       "      <td>1</td>\n",
       "      <td>0</td>\n",
       "      <td>0</td>\n",
       "      <td>0</td>\n",
       "      <td>1</td>\n",
       "      <td>0</td>\n",
       "      <td>0</td>\n",
       "      <td>0</td>\n",
       "      <td>0</td>\n",
       "      <td>1</td>\n",
       "    </tr>\n",
       "    <tr>\n",
       "      <th>7</th>\n",
       "      <td>1</td>\n",
       "      <td>0</td>\n",
       "      <td>*</td>\n",
       "      <td>*</td>\n",
       "      <td>0</td>\n",
       "      <td>0</td>\n",
       "      <td>0</td>\n",
       "      <td>0</td>\n",
       "      <td>1</td>\n",
       "      <td>0</td>\n",
       "      <td>0</td>\n",
       "      <td>0</td>\n",
       "      <td>1</td>\n",
       "      <td>0</td>\n",
       "      <td>0</td>\n",
       "      <td>0</td>\n",
       "      <td>0</td>\n",
       "      <td>1</td>\n",
       "    </tr>\n",
       "    <tr>\n",
       "      <th>9</th>\n",
       "      <td>*</td>\n",
       "      <td>*</td>\n",
       "      <td>*</td>\n",
       "      <td>*</td>\n",
       "      <td>0</td>\n",
       "      <td>0</td>\n",
       "      <td>1</td>\n",
       "      <td>0</td>\n",
       "      <td>0</td>\n",
       "      <td>0</td>\n",
       "      <td>0</td>\n",
       "      <td>0</td>\n",
       "      <td>1</td>\n",
       "      <td>0</td>\n",
       "      <td>0</td>\n",
       "      <td>0</td>\n",
       "      <td>0</td>\n",
       "      <td>1</td>\n",
       "    </tr>\n",
       "    <tr>\n",
       "      <th>10</th>\n",
       "      <td>1</td>\n",
       "      <td>1</td>\n",
       "      <td>1</td>\n",
       "      <td>0</td>\n",
       "      <td>0</td>\n",
       "      <td>0</td>\n",
       "      <td>0</td>\n",
       "      <td>0</td>\n",
       "      <td>1</td>\n",
       "      <td>0</td>\n",
       "      <td>0</td>\n",
       "      <td>0</td>\n",
       "      <td>1</td>\n",
       "      <td>0</td>\n",
       "      <td>0</td>\n",
       "      <td>0</td>\n",
       "      <td>0</td>\n",
       "      <td>1</td>\n",
       "    </tr>\n",
       "    <tr>\n",
       "      <th>11</th>\n",
       "      <td>1</td>\n",
       "      <td>0</td>\n",
       "      <td>1</td>\n",
       "      <td>*</td>\n",
       "      <td>1</td>\n",
       "      <td>0</td>\n",
       "      <td>0</td>\n",
       "      <td>0</td>\n",
       "      <td>0</td>\n",
       "      <td>1</td>\n",
       "      <td>1</td>\n",
       "      <td>0</td>\n",
       "      <td>0</td>\n",
       "      <td>0</td>\n",
       "      <td>0</td>\n",
       "      <td>0</td>\n",
       "      <td>0</td>\n",
       "      <td>1</td>\n",
       "    </tr>\n",
       "  </tbody>\n",
       "</table>\n",
       "</div>"
      ],
      "text/plain": [
       "   gender hypertension ever_married Residence_type obese high_blood_sugar  \\\n",
       "0       0            0            1              1     1                1   \n",
       "2       0            0            1              0     1                0   \n",
       "3       1            0            1              1     1                1   \n",
       "4       1            *            *              *     0                1   \n",
       "5       0            0            1              1     0                1   \n",
       "6       0            1            1              0     0                0   \n",
       "7       1            0            *              *     0                0   \n",
       "9       *            *            *              *     0                0   \n",
       "10      1            1            1              0     0                0   \n",
       "11      1            0            1              *     1                0   \n",
       "\n",
       "   smoking_status_Unknown smoking_status_formerly smoked  \\\n",
       "0                       0                              1   \n",
       "2                       0                              0   \n",
       "3                       0                              0   \n",
       "4                       0                              0   \n",
       "5                       0                              1   \n",
       "6                       0                              0   \n",
       "7                       0                              0   \n",
       "9                       1                              0   \n",
       "10                      0                              0   \n",
       "11                      0                              0   \n",
       "\n",
       "   smoking_status_never smoked smoking_status_smokes work_type_Govt_job  \\\n",
       "0                            0                     0                  0   \n",
       "2                            1                     0                  0   \n",
       "3                            0                     1                  0   \n",
       "4                            1                     0                  0   \n",
       "5                            0                     0                  0   \n",
       "6                            1                     0                  0   \n",
       "7                            1                     0                  0   \n",
       "9                            0                     0                  0   \n",
       "10                           1                     0                  0   \n",
       "11                           0                     1                  1   \n",
       "\n",
       "   work_type_Never_worked work_type_Private work_type_children age_bin_0  \\\n",
       "0                       0                 1                  0         0   \n",
       "2                       0                 1                  0         0   \n",
       "3                       0                 1                  0         0   \n",
       "4                       0                 0                  0         0   \n",
       "5                       0                 1                  0         0   \n",
       "6                       0                 1                  0         0   \n",
       "7                       0                 1                  0         0   \n",
       "9                       0                 1                  0         0   \n",
       "10                      0                 1                  0         0   \n",
       "11                      0                 0                  0         0   \n",
       "\n",
       "   age_bin_1 age_bin_2 age_bin_3  \n",
       "0          0         0         1  \n",
       "2          0         0         1  \n",
       "3          0         1         0  \n",
       "4          0         0         1  \n",
       "5          0         0         1  \n",
       "6          0         0         1  \n",
       "7          0         0         1  \n",
       "9          0         0         1  \n",
       "10         0         0         1  \n",
       "11         0         0         1  "
      ]
     },
     "execution_count": 27,
     "metadata": {},
     "output_type": "execute_result"
    }
   ],
   "source": [
    "# FLAME is highly interpretable. For each unit, we can see the covariates it was matched on.\n",
    "model_flame_HD.df_units_and_covars_matched[:10]"
   ]
  },
  {
   "cell_type": "markdown",
   "metadata": {},
   "source": [
    "Taking a preliminary look at the covariates FLAME matched the units on, covariate choices seem in line with medically relevant factors in stroke prediction (covariates such as age, hypertension, work type, and smoking status)! FLAME seemed to drop variables like Residence_type and ever_married most often, and dropped covariates are indicated by a *)"
   ]
  },
  {
   "cell_type": "markdown",
   "metadata": {},
   "source": [
    "## Hyperparameter Tuning: Deciding on best choice for adaptive_weight"
   ]
  },
  {
   "cell_type": "markdown",
   "metadata": {},
   "source": [
    "### Method 1: Decision Tree Classifier"
   ]
  },
  {
   "cell_type": "code",
   "execution_count": 19,
   "metadata": {},
   "outputs": [
    {
     "data": {
      "text/html": [
       "<div>\n",
       "<style scoped>\n",
       "    .dataframe tbody tr th:only-of-type {\n",
       "        vertical-align: middle;\n",
       "    }\n",
       "\n",
       "    .dataframe tbody tr th {\n",
       "        vertical-align: top;\n",
       "    }\n",
       "\n",
       "    .dataframe thead th {\n",
       "        text-align: right;\n",
       "    }\n",
       "</style>\n",
       "<table border=\"1\" class=\"dataframe\">\n",
       "  <thead>\n",
       "    <tr style=\"text-align: right;\">\n",
       "      <th></th>\n",
       "      <th>gender</th>\n",
       "      <th>hypertension</th>\n",
       "      <th>heart_disease</th>\n",
       "      <th>ever_married</th>\n",
       "      <th>Residence_type</th>\n",
       "      <th>obese</th>\n",
       "      <th>high_blood_sugar</th>\n",
       "      <th>smoking_status_Unknown</th>\n",
       "      <th>smoking_status_formerly smoked</th>\n",
       "      <th>smoking_status_never smoked</th>\n",
       "      <th>smoking_status_smokes</th>\n",
       "      <th>work_type_Govt_job</th>\n",
       "      <th>work_type_Never_worked</th>\n",
       "      <th>work_type_Private</th>\n",
       "      <th>work_type_children</th>\n",
       "      <th>age_bin_0</th>\n",
       "      <th>age_bin_1</th>\n",
       "      <th>age_bin_2</th>\n",
       "      <th>age_bin_3</th>\n",
       "      <th>stroke</th>\n",
       "    </tr>\n",
       "  </thead>\n",
       "  <tbody>\n",
       "    <tr>\n",
       "      <th>0</th>\n",
       "      <td>0</td>\n",
       "      <td>0</td>\n",
       "      <td>1</td>\n",
       "      <td>1</td>\n",
       "      <td>1</td>\n",
       "      <td>1</td>\n",
       "      <td>1</td>\n",
       "      <td>0</td>\n",
       "      <td>1</td>\n",
       "      <td>0</td>\n",
       "      <td>0</td>\n",
       "      <td>0</td>\n",
       "      <td>0</td>\n",
       "      <td>1</td>\n",
       "      <td>0</td>\n",
       "      <td>0</td>\n",
       "      <td>0</td>\n",
       "      <td>0</td>\n",
       "      <td>1</td>\n",
       "      <td>1</td>\n",
       "    </tr>\n",
       "    <tr>\n",
       "      <th>2</th>\n",
       "      <td>0</td>\n",
       "      <td>0</td>\n",
       "      <td>1</td>\n",
       "      <td>1</td>\n",
       "      <td>0</td>\n",
       "      <td>1</td>\n",
       "      <td>0</td>\n",
       "      <td>0</td>\n",
       "      <td>0</td>\n",
       "      <td>1</td>\n",
       "      <td>0</td>\n",
       "      <td>0</td>\n",
       "      <td>0</td>\n",
       "      <td>1</td>\n",
       "      <td>0</td>\n",
       "      <td>0</td>\n",
       "      <td>0</td>\n",
       "      <td>0</td>\n",
       "      <td>1</td>\n",
       "      <td>1</td>\n",
       "    </tr>\n",
       "    <tr>\n",
       "      <th>3</th>\n",
       "      <td>1</td>\n",
       "      <td>0</td>\n",
       "      <td>0</td>\n",
       "      <td>1</td>\n",
       "      <td>1</td>\n",
       "      <td>1</td>\n",
       "      <td>1</td>\n",
       "      <td>0</td>\n",
       "      <td>0</td>\n",
       "      <td>0</td>\n",
       "      <td>1</td>\n",
       "      <td>0</td>\n",
       "      <td>0</td>\n",
       "      <td>1</td>\n",
       "      <td>0</td>\n",
       "      <td>0</td>\n",
       "      <td>0</td>\n",
       "      <td>1</td>\n",
       "      <td>0</td>\n",
       "      <td>1</td>\n",
       "    </tr>\n",
       "    <tr>\n",
       "      <th>4</th>\n",
       "      <td>1</td>\n",
       "      <td>1</td>\n",
       "      <td>0</td>\n",
       "      <td>1</td>\n",
       "      <td>0</td>\n",
       "      <td>0</td>\n",
       "      <td>1</td>\n",
       "      <td>0</td>\n",
       "      <td>0</td>\n",
       "      <td>1</td>\n",
       "      <td>0</td>\n",
       "      <td>0</td>\n",
       "      <td>0</td>\n",
       "      <td>0</td>\n",
       "      <td>0</td>\n",
       "      <td>0</td>\n",
       "      <td>0</td>\n",
       "      <td>0</td>\n",
       "      <td>1</td>\n",
       "      <td>1</td>\n",
       "    </tr>\n",
       "    <tr>\n",
       "      <th>5</th>\n",
       "      <td>0</td>\n",
       "      <td>0</td>\n",
       "      <td>0</td>\n",
       "      <td>1</td>\n",
       "      <td>1</td>\n",
       "      <td>0</td>\n",
       "      <td>1</td>\n",
       "      <td>0</td>\n",
       "      <td>1</td>\n",
       "      <td>0</td>\n",
       "      <td>0</td>\n",
       "      <td>0</td>\n",
       "      <td>0</td>\n",
       "      <td>1</td>\n",
       "      <td>0</td>\n",
       "      <td>0</td>\n",
       "      <td>0</td>\n",
       "      <td>0</td>\n",
       "      <td>1</td>\n",
       "      <td>1</td>\n",
       "    </tr>\n",
       "  </tbody>\n",
       "</table>\n",
       "</div>"
      ],
      "text/plain": [
       "   gender  hypertension  heart_disease  ever_married  Residence_type  obese  \\\n",
       "0       0             0              1             1               1      1   \n",
       "2       0             0              1             1               0      1   \n",
       "3       1             0              0             1               1      1   \n",
       "4       1             1              0             1               0      0   \n",
       "5       0             0              0             1               1      0   \n",
       "\n",
       "   high_blood_sugar  smoking_status_Unknown  smoking_status_formerly smoked  \\\n",
       "0                 1                       0                               1   \n",
       "2                 0                       0                               0   \n",
       "3                 1                       0                               0   \n",
       "4                 1                       0                               0   \n",
       "5                 1                       0                               1   \n",
       "\n",
       "   smoking_status_never smoked  smoking_status_smokes  work_type_Govt_job  \\\n",
       "0                            0                      0                   0   \n",
       "2                            1                      0                   0   \n",
       "3                            0                      1                   0   \n",
       "4                            1                      0                   0   \n",
       "5                            0                      0                   0   \n",
       "\n",
       "   work_type_Never_worked  work_type_Private  work_type_children  age_bin_0  \\\n",
       "0                       0                  1                   0          0   \n",
       "2                       0                  1                   0          0   \n",
       "3                       0                  1                   0          0   \n",
       "4                       0                  0                   0          0   \n",
       "5                       0                  1                   0          0   \n",
       "\n",
       "   age_bin_1  age_bin_2  age_bin_3  stroke  \n",
       "0          0          0          1       1  \n",
       "2          0          0          1       1  \n",
       "3          0          1          0       1  \n",
       "4          0          0          1       1  \n",
       "5          0          0          1       1  "
      ]
     },
     "execution_count": 19,
     "metadata": {},
     "output_type": "execute_result"
    }
   ],
   "source": [
    "df_trunc.head()"
   ]
  },
  {
   "cell_type": "code",
   "execution_count": 20,
   "metadata": {},
   "outputs": [],
   "source": [
    "X_train, X_test, y_train, y_test = train_test_split(df_trunc.drop('stroke', 1), df_trunc['stroke'], test_size = .2, random_state=9) #split the data\n"
   ]
  },
  {
   "cell_type": "code",
   "execution_count": 21,
   "metadata": {},
   "outputs": [
    {
     "data": {
      "text/plain": [
       "DecisionTreeClassifier(max_depth=5)"
      ]
     },
     "execution_count": 21,
     "metadata": {},
     "output_type": "execute_result"
    }
   ],
   "source": [
    "model = DecisionTreeClassifier(max_depth=5)\n",
    "model.fit(X_train, y_train)"
   ]
  },
  {
   "cell_type": "code",
   "execution_count": 22,
   "metadata": {},
   "outputs": [
    {
     "name": "stdout",
     "output_type": "stream",
     "text": [
      "['0.9592 (+/- 0.00)', '0.9592 (+/- 0.00)', '0.9592 (+/- 0.00)', '0.9580 (+/- 0.01)', '0.9577 (+/- 0.00)', '0.9575 (+/- 0.00)', '0.9570 (+/- 0.00)', '0.9526 (+/- 0.01)', '0.9498 (+/- 0.01)', '0.9457 (+/- 0.01)', '0.9592 (+/- 0.00)', '0.9592 (+/- 0.00)', '0.9592 (+/- 0.00)', '0.9592 (+/- 0.00)', '0.9570 (+/- 0.00)', '0.9575 (+/- 0.00)', '0.9564 (+/- 0.00)', '0.9536 (+/- 0.01)', '0.9508 (+/- 0.01)', '0.9473 (+/- 0.01)']\n"
     ]
    }
   ],
   "source": [
    "from sklearn.model_selection import cross_val_score\n",
    "from sklearn.model_selection import KFold\n",
    "k_f = KFold(n_splits=5)\n",
    "k_f\n",
    "\n",
    "accuracy_mean = []\n",
    "accuracy_sd = []\n",
    "accuracy_report = []\n",
    "\n",
    "# use plot to determine the best model\n",
    "\n",
    "for i in [\"gini\", \"entropy\"]:\n",
    "  # splitting criteria: gini or entropy\n",
    "  for k in range(1, 11):\n",
    "    # max_depth of tree\n",
    "    cv = cross_val_score(DecisionTreeClassifier(criterion = i, max_depth=k), X_train, y_train, cv=5, scoring='accuracy')\n",
    "    curr_mean = cv.mean()\n",
    "    curr_sd = cv.std()\n",
    "\n",
    "    accuracy_mean.append(curr_mean)\n",
    "    accuracy_sd.append(curr_sd)\n",
    "\n",
    "    accuracy_report.append(\"%0.4f (+/- %0.2f)\" % (cv.mean(), cv.std() * 2))\n",
    "\n",
    "print(accuracy_report) # a list of reported accuracies (95% CIs)"
   ]
  },
  {
   "cell_type": "code",
   "execution_count": 23,
   "metadata": {},
   "outputs": [],
   "source": [
    "# make list of gini and entropy accuracies for graph below.\n",
    "gini_accuracy = accuracy_mean[0:10]\n",
    "entropy_accuracy = accuracy_mean[10:20]"
   ]
  },
  {
   "cell_type": "code",
   "execution_count": 24,
   "metadata": {},
   "outputs": [
    {
     "data": {
      "image/png": "[encoded data removed]",
      "text/plain": [
       "<Figure size 432x288 with 1 Axes>"
      ]
     },
     "metadata": {
      "needs_background": "light"
     },
     "output_type": "display_data"
    }
   ],
   "source": [
    "import matplotlib.pyplot as plt\n",
    "import numpy as np\n",
    "\n",
    "x = np.linspace(1, 10, 10)\n",
    "\n",
    "fig = plt.figure()\n",
    "ax1 = fig.add_subplot(111)\n",
    "\n",
    "plt.plot(x, gini_accuracy, '-o', label = \"gini\")\n",
    "plt.plot(x, entropy_accuracy, '-o', label = \"entropy\")\n",
    "\n",
    "plt.legend(loc='upper left');\n",
    "plt.title(\"Mean Accuracy by Max-Depth\")\n",
    "plt.xlabel(\"Max Depth\")\n",
    "plt.ylabel(\"Accuracy\")\n",
    "plt.show()"
   ]
  },
  {
   "cell_type": "markdown",
   "metadata": {},
   "source": [
    "From the plot above, we see that entropy with a max depth of 4 gives the highest validation accuracy (0.9592 (+/- 0.00) for the DecisionTreeClassifier."
   ]
  },
  {
   "cell_type": "markdown",
   "metadata": {},
   "source": [
    "### Method 2: Ridge Regression"
   ]
  },
  {
   "cell_type": "code",
   "execution_count": 25,
   "metadata": {},
   "outputs": [],
   "source": [
    "from sklearn.linear_model import RidgeClassifier"
   ]
  },
  {
   "cell_type": "code",
   "execution_count": 26,
   "metadata": {},
   "outputs": [
    {
     "name": "stdout",
     "output_type": "stream",
     "text": [
      "['0.959 (+/- 0.00)', '0.959 (+/- 0.00)', '0.959 (+/- 0.00)', '0.959 (+/- 0.00)', '0.959 (+/- 0.00)', '0.959 (+/- 0.00)']\n"
     ]
    }
   ],
   "source": [
    "accuracy_mean = []\n",
    "accuracy_sd = []\n",
    "accuracy_report = []\n",
    "\n",
    "# use plot to determine the best model\n",
    "\n",
    "for reg in [0.001, 0.01, 0.1, 1, 10, 100]:\n",
    "    # regularization penalty\n",
    "    cv = cross_val_score(RidgeClassifier(alpha=reg), X_train, y_train, cv=5, scoring='accuracy')\n",
    "    curr_mean = cv.mean()\n",
    "    curr_sd = cv.std()\n",
    "\n",
    "    accuracy_mean.append(curr_mean)\n",
    "    accuracy_sd.append(curr_sd)\n",
    "\n",
    "    accuracy_report.append(\"%0.3f (+/- %0.2f)\" % (cv.mean(), cv.std() * 2))\n",
    "\n",
    "print(accuracy_report) # a list of reported accuracies (95% CIs)"
   ]
  },
  {
   "cell_type": "code",
   "execution_count": 27,
   "metadata": {},
   "outputs": [
    {
     "data": {
      "image/png": "[encoded data removed]",
      "text/plain": [
       "<Figure size 432x288 with 1 Axes>"
      ]
     },
     "metadata": {
      "needs_background": "light"
     },
     "output_type": "display_data"
    }
   ],
   "source": [
    "import matplotlib.pyplot as plt\n",
    "import numpy as np\n",
    "\n",
    "x = np.log([0.001, 0.01, 0.1, 1, 10, 100])\n",
    "\n",
    "fig = plt.figure()\n",
    "ax1 = fig.add_subplot(111)\n",
    "\n",
    "plt.plot(x, accuracy_mean, '-o', label = \"ridge regression\")\n",
    "\n",
    "plt.legend(loc='upper left');\n",
    "plt.title(\"Mean Accuracy by Regularization Penalty\")\n",
    "plt.xlabel(\"Log Ridge Penalty Alpha\")\n",
    "plt.ylabel(\"Accuracy\")\n",
    "plt.show()"
   ]
  },
  {
   "cell_type": "markdown",
   "metadata": {},
   "source": [
    "Ridge regression performs similarly to the best DecisionTree model, so we will use ridge regression as the adaptive weight within the FLAME algorithm. The regularization penalty does not seem to influence the validation accuracy. Hence, we will set alpha to the default value 0.1."
   ]
  },
  {
   "cell_type": "markdown",
   "metadata": {},
   "source": [
    "# Results: Average Treatment Effect"
   ]
  },
  {
   "cell_type": "markdown",
   "metadata": {},
   "source": [
    "To rank the causes of stroke, we will examine the effects of each of the following covariates on stroke. To do this, we run the FLAME model multiple times in a loop, each time using a different covariate as the designated 'treatment' variable."
   ]
  },
  {
   "cell_type": "code",
   "execution_count": 28,
   "metadata": {
    "scrolled": false
   },
   "outputs": [],
   "source": [
    "feature_names = df_trunc.columns \n",
    "feature_names = feature_names[:-1]"
   ]
  },
  {
   "cell_type": "code",
   "execution_count": 29,
   "metadata": {},
   "outputs": [
    {
     "data": {
      "text/plain": [
       "Index(['gender', 'hypertension', 'heart_disease', 'ever_married',\n",
       "       'Residence_type', 'obese', 'high_blood_sugar', 'smoking_status_Unknown',\n",
       "       'smoking_status_formerly smoked', 'smoking_status_never smoked',\n",
       "       'smoking_status_smokes', 'work_type_Govt_job', 'work_type_Never_worked',\n",
       "       'work_type_Private', 'work_type_children', 'age_bin_0', 'age_bin_1',\n",
       "       'age_bin_2', 'age_bin_3'],\n",
       "      dtype='object')"
      ]
     },
     "execution_count": 29,
     "metadata": {},
     "output_type": "execute_result"
    }
   ],
   "source": [
    "# Loop through each of these \"treatment\" variables to determine the top causes of occurence of stroke.\n",
    "feature_names"
   ]
  },
  {
   "cell_type": "code",
   "execution_count": 30,
   "metadata": {},
   "outputs": [],
   "source": [
    "model_flame = dame_flame.matching.FLAME(repeats=True, verbose=3, adaptive_weights='ridge', alpha=0.1, want_pe=True, early_stop_iterations=30)"
   ]
  },
  {
   "cell_type": "code",
   "execution_count": null,
   "metadata": {},
   "outputs": [],
   "source": [
    "ATE_LIST = []\n",
    "\n",
    "for i in range(len(feature_names)):\n",
    "#     print(feature_names[i])\n",
    "    model_flame.fit(holdout_data=df_trunc, treatment_column_name=feature_names[i], outcome_column_name='stroke')\n",
    "    model_flame.predict(df_trunc)\n",
    "    ate = dame_flame.utils.post_processing.ATE(model_flame)\n",
    "    ATE_LIST.append(ate)       "
   ]
  },
  {
   "cell_type": "code",
   "execution_count": 32,
   "metadata": {},
   "outputs": [
    {
     "name": "stdout",
     "output_type": "stream",
     "text": [
      "Index(['gender', 'hypertension', 'heart_disease', 'ever_married',\n",
      "       'Residence_type', 'obese', 'high_blood_sugar', 'smoking_status_Unknown',\n",
      "       'smoking_status_formerly smoked', 'smoking_status_never smoked',\n",
      "       'smoking_status_smokes', 'work_type_Govt_job', 'work_type_Never_worked',\n",
      "       'work_type_Private', 'work_type_children', 'age_bin_0', 'age_bin_1',\n",
      "       'age_bin_2', 'age_bin_3'],\n",
      "      dtype='object')\n"
     ]
    },
    {
     "data": {
      "text/plain": [
       "19"
      ]
     },
     "execution_count": 32,
     "metadata": {},
     "output_type": "execute_result"
    }
   ],
   "source": [
    "print(feature_names)\n",
    "len(ATE_LIST)"
   ]
  },
  {
   "cell_type": "code",
   "execution_count": 33,
   "metadata": {
    "scrolled": true
   },
   "outputs": [
    {
     "data": {
      "text/plain": [
       "[('age_bin_1', -0.036011379192618896),\n",
       " ('age_bin_0', -0.03216242105190894),\n",
       " ('work_type_Never_worked', -0.01823294327079747),\n",
       " ('work_type_children', -0.017973113120769244),\n",
       " ('age_bin_2', -0.010739964083528394),\n",
       " ('smoking_status_Unknown', -0.005865250376357788),\n",
       " ('work_type_Govt_job', -0.005352798802071218),\n",
       " ('ever_married', -0.00340693809979216),\n",
       " ('smoking_status_never smoked', -0.001984726108970916),\n",
       " ('work_type_Private', 0.001591695099257064),\n",
       " ('Residence_type', 0.0021149714740288975),\n",
       " ('obese', 0.00315276749054838),\n",
       " ('smoking_status_smokes', 0.005327925155501201),\n",
       " ('smoking_status_formerly smoked', 0.005565067130122559),\n",
       " ('heart_disease', 0.006077762579679605),\n",
       " ('gender', 0.0064754030367190655),\n",
       " ('hypertension', 0.01942635278790051),\n",
       " ('high_blood_sugar', 0.025806685758345705),\n",
       " ('age_bin_3', 0.07799270652844659)]"
      ]
     },
     "execution_count": 33,
     "metadata": {},
     "output_type": "execute_result"
    }
   ],
   "source": [
    "# Ranking of treatment effects: Larger ATE value means a covariate is more predictive of stroke. \n",
    "names_ATE = []\n",
    "for i in range(len(feature_names)):\n",
    "    names_ATE.append((feature_names[i], ATE_LIST[i]))\n",
    "names_ATE\n",
    "\n",
    "# sort by average treatment effect.\n",
    "names_ATE.sort(key=lambda names_ATE: names_ATE[1])\n",
    "names_ATE"
   ]
  },
  {
   "cell_type": "code",
   "execution_count": 34,
   "metadata": {},
   "outputs": [],
   "source": [
    "treatment = ('gender',\n",
    " 'hypertension',\n",
    " 'heart_disease',\n",
    " 'ever_married',\n",
    " 'Residence_type',\n",
    " 'obese',\n",
    " 'high_blood_sugar',\n",
    " 'smoking_status_Unknown',\n",
    " 'smoking_status_formerly smoked',\n",
    " 'smoking_status_never smoked',\n",
    " 'smoking_status_smokes',\n",
    " 'work_type_Govt_job',\n",
    " 'work_type_Never_worked',\n",
    " 'work_type_Private',\n",
    " 'work_type_children',\n",
    " 'age_bin_0',\n",
    " 'age_bin_1',\n",
    " 'age_bin_2',\n",
    " 'age_bin_3')"
   ]
  },
  {
   "cell_type": "code",
   "execution_count": 37,
   "metadata": {},
   "outputs": [
    {
     "data": {
      "application/vnd.plotly.v1+json": {
       "config": {
        "plotlyServerURL": "https://plot.ly"
       },
       "data": [
        {
         "customdata": [
          0.0064754030367190655,
          0.01942635278790051,
          0.006077762579679605,
          -0.00340693809979216,
          0.0021149714740288975,
          0.00315276749054838,
          0.025806685758345705,
          -0.005865250376357788,
          0.005565067130122559,
          -0.001984726108970916,
          0.005327925155501201,
          -0.005352798802071218,
          -0.01823294327079747,
          0.001591695099257064,
          -0.017973113120769244,
          -0.03216242105190894,
          -0.036011379192618896,
          -0.010739964083528394,
          0.07799270652844659
         ],
         "hovertemplate": "%{y}: %{customdata}",
         "name": "gender",
         "orientation": "h",
         "type": "bar",
         "x": [
          0.0064754030367190655,
          0.01942635278790051,
          0.006077762579679605,
          -0.00340693809979216,
          0.0021149714740288975,
          0.00315276749054838,
          0.025806685758345705,
          -0.005865250376357788,
          0.005565067130122559,
          -0.001984726108970916,
          0.005327925155501201,
          -0.005352798802071218,
          -0.01823294327079747,
          0.001591695099257064,
          -0.017973113120769244,
          -0.03216242105190894,
          -0.036011379192618896,
          -0.010739964083528394,
          0.07799270652844659
         ],
         "y": [
          "gender",
          "hypertension",
          "heart_disease",
          "ever_married",
          "Residence_type",
          "obese",
          "high_blood_sugar",
          "smoking_status_Unknown",
          "smoking_status_formerly smoked",
          "smoking_status_never smoked",
          "smoking_status_smokes",
          "work_type_Govt_job",
          "work_type_Never_worked",
          "work_type_Private",
          "work_type_children",
          "age_bin_0",
          "age_bin_1",
          "age_bin_2",
          "age_bin_3"
         ]
        }
       ],
       "layout": {
        "font": {
         "color": "Black",
         "family": "Courier New, monospace",
         "size": 12
        },
        "legend": {
         "title": {
          "text": "Legend Title"
         }
        },
        "template": {
         "data": {
          "bar": [
           {
            "error_x": {
             "color": "#2a3f5f"
            },
            "error_y": {
             "color": "#2a3f5f"
            },
            "marker": {
             "line": {
              "color": "#E5ECF6",
              "width": 0.5
             }
            },
            "type": "bar"
           }
          ],
          "barpolar": [
           {
            "marker": {
             "line": {
              "color": "#E5ECF6",
              "width": 0.5
             }
            },
            "type": "barpolar"
           }
          ],
          "carpet": [
           {
            "aaxis": {
             "endlinecolor": "#2a3f5f",
             "gridcolor": "white",
             "linecolor": "white",
             "minorgridcolor": "white",
             "startlinecolor": "#2a3f5f"
            },
            "baxis": {
             "endlinecolor": "#2a3f5f",
             "gridcolor": "white",
             "linecolor": "white",
             "minorgridcolor": "white",
             "startlinecolor": "#2a3f5f"
            },
            "type": "carpet"
           }
          ],
          "choropleth": [
           {
            "colorbar": {
             "outlinewidth": 0,
             "ticks": ""
            },
            "type": "choropleth"
           }
          ],
          "contour": [
           {
            "colorbar": {
             "outlinewidth": 0,
             "ticks": ""
            },
            "colorscale": [
             [
              0,
              "#0d0887"
             ],
             [
              0.1111111111111111,
              "#46039f"
             ],
             [
              0.2222222222222222,
              "#7201a8"
             ],
             [
              0.3333333333333333,
              "#9c179e"
             ],
             [
              0.4444444444444444,
              "#bd3786"
             ],
             [
              0.5555555555555556,
              "#d8576b"
             ],
             [
              0.6666666666666666,
              "#ed7953"
             ],
             [
              0.7777777777777778,
              "#fb9f3a"
             ],
             [
              0.8888888888888888,
              "#fdca26"
             ],
             [
              1,
              "#f0f921"
             ]
            ],
            "type": "contour"
           }
          ],
          "contourcarpet": [
           {
            "colorbar": {
             "outlinewidth": 0,
             "ticks": ""
            },
            "type": "contourcarpet"
           }
          ],
          "heatmap": [
           {
            "colorbar": {
             "outlinewidth": 0,
             "ticks": ""
            },
            "colorscale": [
             [
              0,
              "#0d0887"
             ],
             [
              0.1111111111111111,
              "#46039f"
             ],
             [
              0.2222222222222222,
              "#7201a8"
             ],
             [
              0.3333333333333333,
              "#9c179e"
             ],
             [
              0.4444444444444444,
              "#bd3786"
             ],
             [
              0.5555555555555556,
              "#d8576b"
             ],
             [
              0.6666666666666666,
              "#ed7953"
             ],
             [
              0.7777777777777778,
              "#fb9f3a"
             ],
             [
              0.8888888888888888,
              "#fdca26"
             ],
             [
              1,
              "#f0f921"
             ]
            ],
            "type": "heatmap"
           }
          ],
          "heatmapgl": [
           {
            "colorbar": {
             "outlinewidth": 0,
             "ticks": ""
            },
            "colorscale": [
             [
              0,
              "#0d0887"
             ],
             [
              0.1111111111111111,
              "#46039f"
             ],
             [
              0.2222222222222222,
              "#7201a8"
             ],
             [
              0.3333333333333333,
              "#9c179e"
             ],
             [
              0.4444444444444444,
              "#bd3786"
             ],
             [
              0.5555555555555556,
              "#d8576b"
             ],
             [
              0.6666666666666666,
              "#ed7953"
             ],
             [
              0.7777777777777778,
              "#fb9f3a"
             ],
             [
              0.8888888888888888,
              "#fdca26"
             ],
             [
              1,
              "#f0f921"
             ]
            ],
            "type": "heatmapgl"
           }
          ],
          "histogram": [
           {
            "marker": {
             "colorbar": {
              "outlinewidth": 0,
              "ticks": ""
             }
            },
            "type": "histogram"
           }
          ],
          "histogram2d": [
           {
            "colorbar": {
             "outlinewidth": 0,
             "ticks": ""
            },
            "colorscale": [
             [
              0,
              "#0d0887"
             ],
             [
              0.1111111111111111,
              "#46039f"
             ],
             [
              0.2222222222222222,
              "#7201a8"
             ],
             [
              0.3333333333333333,
              "#9c179e"
             ],
             [
              0.4444444444444444,
              "#bd3786"
             ],
             [
              0.5555555555555556,
              "#d8576b"
             ],
             [
              0.6666666666666666,
              "#ed7953"
             ],
             [
              0.7777777777777778,
              "#fb9f3a"
             ],
             [
              0.8888888888888888,
              "#fdca26"
             ],
             [
              1,
              "#f0f921"
             ]
            ],
            "type": "histogram2d"
           }
          ],
          "histogram2dcontour": [
           {
            "colorbar": {
             "outlinewidth": 0,
             "ticks": ""
            },
            "colorscale": [
             [
              0,
              "#0d0887"
             ],
             [
              0.1111111111111111,
              "#46039f"
             ],
             [
              0.2222222222222222,
              "#7201a8"
             ],
             [
              0.3333333333333333,
              "#9c179e"
             ],
             [
              0.4444444444444444,
              "#bd3786"
             ],
             [
              0.5555555555555556,
              "#d8576b"
             ],
             [
              0.6666666666666666,
              "#ed7953"
             ],
             [
              0.7777777777777778,
              "#fb9f3a"
             ],
             [
              0.8888888888888888,
              "#fdca26"
             ],
             [
              1,
              "#f0f921"
             ]
            ],
            "type": "histogram2dcontour"
           }
          ],
          "mesh3d": [
           {
            "colorbar": {
             "outlinewidth": 0,
             "ticks": ""
            },
            "type": "mesh3d"
           }
          ],
          "parcoords": [
           {
            "line": {
             "colorbar": {
              "outlinewidth": 0,
              "ticks": ""
             }
            },
            "type": "parcoords"
           }
          ],
          "pie": [
           {
            "automargin": true,
            "type": "pie"
           }
          ],
          "scatter": [
           {
            "marker": {
             "colorbar": {
              "outlinewidth": 0,
              "ticks": ""
             }
            },
            "type": "scatter"
           }
          ],
          "scatter3d": [
           {
            "line": {
             "colorbar": {
              "outlinewidth": 0,
              "ticks": ""
             }
            },
            "marker": {
             "colorbar": {
              "outlinewidth": 0,
              "ticks": ""
             }
            },
            "type": "scatter3d"
           }
          ],
          "scattercarpet": [
           {
            "marker": {
             "colorbar": {
              "outlinewidth": 0,
              "ticks": ""
             }
            },
            "type": "scattercarpet"
           }
          ],
          "scattergeo": [
           {
            "marker": {
             "colorbar": {
              "outlinewidth": 0,
              "ticks": ""
             }
            },
            "type": "scattergeo"
           }
          ],
          "scattergl": [
           {
            "marker": {
             "colorbar": {
              "outlinewidth": 0,
              "ticks": ""
             }
            },
            "type": "scattergl"
           }
          ],
          "scattermapbox": [
           {
            "marker": {
             "colorbar": {
              "outlinewidth": 0,
              "ticks": ""
             }
            },
            "type": "scattermapbox"
           }
          ],
          "scatterpolar": [
           {
            "marker": {
             "colorbar": {
              "outlinewidth": 0,
              "ticks": ""
             }
            },
            "type": "scatterpolar"
           }
          ],
          "scatterpolargl": [
           {
            "marker": {
             "colorbar": {
              "outlinewidth": 0,
              "ticks": ""
             }
            },
            "type": "scatterpolargl"
           }
          ],
          "scatterternary": [
           {
            "marker": {
             "colorbar": {
              "outlinewidth": 0,
              "ticks": ""
             }
            },
            "type": "scatterternary"
           }
          ],
          "surface": [
           {
            "colorbar": {
             "outlinewidth": 0,
             "ticks": ""
            },
            "colorscale": [
             [
              0,
              "#0d0887"
             ],
             [
              0.1111111111111111,
              "#46039f"
             ],
             [
              0.2222222222222222,
              "#7201a8"
             ],
             [
              0.3333333333333333,
              "#9c179e"
             ],
             [
              0.4444444444444444,
              "#bd3786"
             ],
             [
              0.5555555555555556,
              "#d8576b"
             ],
             [
              0.6666666666666666,
              "#ed7953"
             ],
             [
              0.7777777777777778,
              "#fb9f3a"
             ],
             [
              0.8888888888888888,
              "#fdca26"
             ],
             [
              1,
              "#f0f921"
             ]
            ],
            "type": "surface"
           }
          ],
          "table": [
           {
            "cells": {
             "fill": {
              "color": "#EBF0F8"
             },
             "line": {
              "color": "white"
             }
            },
            "header": {
             "fill": {
              "color": "#C8D4E3"
             },
             "line": {
              "color": "white"
             }
            },
            "type": "table"
           }
          ]
         },
         "layout": {
          "annotationdefaults": {
           "arrowcolor": "#2a3f5f",
           "arrowhead": 0,
           "arrowwidth": 1
          },
          "autotypenumbers": "strict",
          "coloraxis": {
           "colorbar": {
            "outlinewidth": 0,
            "ticks": ""
           }
          },
          "colorscale": {
           "diverging": [
            [
             0,
             "#8e0152"
            ],
            [
             0.1,
             "#c51b7d"
            ],
            [
             0.2,
             "#de77ae"
            ],
            [
             0.3,
             "#f1b6da"
            ],
            [
             0.4,
             "#fde0ef"
            ],
            [
             0.5,
             "#f7f7f7"
            ],
            [
             0.6,
             "#e6f5d0"
            ],
            [
             0.7,
             "#b8e186"
            ],
            [
             0.8,
             "#7fbc41"
            ],
            [
             0.9,
             "#4d9221"
            ],
            [
             1,
             "#276419"
            ]
           ],
           "sequential": [
            [
             0,
             "#0d0887"
            ],
            [
             0.1111111111111111,
             "#46039f"
            ],
            [
             0.2222222222222222,
             "#7201a8"
            ],
            [
             0.3333333333333333,
             "#9c179e"
            ],
            [
             0.4444444444444444,
             "#bd3786"
            ],
            [
             0.5555555555555556,
             "#d8576b"
            ],
            [
             0.6666666666666666,
             "#ed7953"
            ],
            [
             0.7777777777777778,
             "#fb9f3a"
            ],
            [
             0.8888888888888888,
             "#fdca26"
            ],
            [
             1,
             "#f0f921"
            ]
           ],
           "sequentialminus": [
            [
             0,
             "#0d0887"
            ],
            [
             0.1111111111111111,
             "#46039f"
            ],
            [
             0.2222222222222222,
             "#7201a8"
            ],
            [
             0.3333333333333333,
             "#9c179e"
            ],
            [
             0.4444444444444444,
             "#bd3786"
            ],
            [
             0.5555555555555556,
             "#d8576b"
            ],
            [
             0.6666666666666666,
             "#ed7953"
            ],
            [
             0.7777777777777778,
             "#fb9f3a"
            ],
            [
             0.8888888888888888,
             "#fdca26"
            ],
            [
             1,
             "#f0f921"
            ]
           ]
          },
          "colorway": [
           "#636efa",
           "#EF553B",
           "#00cc96",
           "#ab63fa",
           "#FFA15A",
           "#19d3f3",
           "#FF6692",
           "#B6E880",
           "#FF97FF",
           "#FECB52"
          ],
          "font": {
           "color": "#2a3f5f"
          },
          "geo": {
           "bgcolor": "white",
           "lakecolor": "white",
           "landcolor": "#E5ECF6",
           "showlakes": true,
           "showland": true,
           "subunitcolor": "white"
          },
          "hoverlabel": {
           "align": "left"
          },
          "hovermode": "closest",
          "mapbox": {
           "style": "light"
          },
          "paper_bgcolor": "white",
          "plot_bgcolor": "#E5ECF6",
          "polar": {
           "angularaxis": {
            "gridcolor": "white",
            "linecolor": "white",
            "ticks": ""
           },
           "bgcolor": "#E5ECF6",
           "radialaxis": {
            "gridcolor": "white",
            "linecolor": "white",
            "ticks": ""
           }
          },
          "scene": {
           "xaxis": {
            "backgroundcolor": "#E5ECF6",
            "gridcolor": "white",
            "gridwidth": 2,
            "linecolor": "white",
            "showbackground": true,
            "ticks": "",
            "zerolinecolor": "white"
           },
           "yaxis": {
            "backgroundcolor": "#E5ECF6",
            "gridcolor": "white",
            "gridwidth": 2,
            "linecolor": "white",
            "showbackground": true,
            "ticks": "",
            "zerolinecolor": "white"
           },
           "zaxis": {
            "backgroundcolor": "#E5ECF6",
            "gridcolor": "white",
            "gridwidth": 2,
            "linecolor": "white",
            "showbackground": true,
            "ticks": "",
            "zerolinecolor": "white"
           }
          },
          "shapedefaults": {
           "line": {
            "color": "#2a3f5f"
           }
          },
          "ternary": {
           "aaxis": {
            "gridcolor": "white",
            "linecolor": "white",
            "ticks": ""
           },
           "baxis": {
            "gridcolor": "white",
            "linecolor": "white",
            "ticks": ""
           },
           "bgcolor": "#E5ECF6",
           "caxis": {
            "gridcolor": "white",
            "linecolor": "white",
            "ticks": ""
           }
          },
          "title": {
           "x": 0.05
          },
          "xaxis": {
           "automargin": true,
           "gridcolor": "white",
           "linecolor": "white",
           "ticks": "",
           "title": {
            "standoff": 15
           },
           "zerolinecolor": "white",
           "zerolinewidth": 2
          },
          "yaxis": {
           "automargin": true,
           "gridcolor": "white",
           "linecolor": "white",
           "ticks": "",
           "title": {
            "standoff": 15
           },
           "zerolinecolor": "white",
           "zerolinewidth": 2
          }
         }
        },
        "title": {
         "text": "Identifying Causes of Stroke",
         "x": 0.5,
         "xanchor": "center",
         "y": 0.9,
         "yanchor": "top"
        },
        "xaxis": {
         "title": {
          "text": "Average Treatment Effect (in difference of proportions)"
         }
        },
        "yaxis": {
         "title": {
          "text": "Treatment Variable"
         }
        }
       }
      },
      "text/html": [
       "<div>                            <div id=\"098ed10a-aed7-4971-9b78-da6e15540d57\" class=\"plotly-graph-div\" style=\"height:525px; width:100%;\"></div>            <script type=\"text/javascript\">                require([\"plotly\"], function(Plotly) {                    window.PLOTLYENV=window.PLOTLYENV || {};                                    if (document.getElementById(\"098ed10a-aed7-4971-9b78-da6e15540d57\")) {                    Plotly.newPlot(                        \"098ed10a-aed7-4971-9b78-da6e15540d57\",                        [{\"customdata\": [0.0064754030367190655, 0.01942635278790051, 0.006077762579679605, -0.00340693809979216, 0.0021149714740288975, 0.00315276749054838, 0.025806685758345705, -0.005865250376357788, 0.005565067130122559, -0.001984726108970916, 0.005327925155501201, -0.005352798802071218, -0.01823294327079747, 0.001591695099257064, -0.017973113120769244, -0.03216242105190894, -0.036011379192618896, -0.010739964083528394, 0.07799270652844659], \"hovertemplate\": \"%{y}: %{customdata}\", \"name\": \"gender\", \"orientation\": \"h\", \"type\": \"bar\", \"x\": [0.0064754030367190655, 0.01942635278790051, 0.006077762579679605, -0.00340693809979216, 0.0021149714740288975, 0.00315276749054838, 0.025806685758345705, -0.005865250376357788, 0.005565067130122559, -0.001984726108970916, 0.005327925155501201, -0.005352798802071218, -0.01823294327079747, 0.001591695099257064, -0.017973113120769244, -0.03216242105190894, -0.036011379192618896, -0.010739964083528394, 0.07799270652844659], \"y\": [\"gender\", \"hypertension\", \"heart_disease\", \"ever_married\", \"Residence_type\", \"obese\", \"high_blood_sugar\", \"smoking_status_Unknown\", \"smoking_status_formerly smoked\", \"smoking_status_never smoked\", \"smoking_status_smokes\", \"work_type_Govt_job\", \"work_type_Never_worked\", \"work_type_Private\", \"work_type_children\", \"age_bin_0\", \"age_bin_1\", \"age_bin_2\", \"age_bin_3\"]}],                        {\"font\": {\"color\": \"Black\", \"family\": \"Courier New, monospace\", \"size\": 12}, \"legend\": {\"title\": {\"text\": \"Legend Title\"}}, \"template\": {\"data\": {\"bar\": [{\"error_x\": {\"color\": \"#2a3f5f\"}, \"error_y\": {\"color\": \"#2a3f5f\"}, \"marker\": {\"line\": {\"color\": \"#E5ECF6\", \"width\": 0.5}}, \"type\": \"bar\"}], \"barpolar\": [{\"marker\": {\"line\": {\"color\": \"#E5ECF6\", \"width\": 0.5}}, \"type\": \"barpolar\"}], \"carpet\": [{\"aaxis\": {\"endlinecolor\": \"#2a3f5f\", \"gridcolor\": \"white\", \"linecolor\": \"white\", \"minorgridcolor\": \"white\", \"startlinecolor\": \"#2a3f5f\"}, \"baxis\": {\"endlinecolor\": \"#2a3f5f\", \"gridcolor\": \"white\", \"linecolor\": \"white\", \"minorgridcolor\": \"white\", \"startlinecolor\": \"#2a3f5f\"}, \"type\": \"carpet\"}], \"choropleth\": [{\"colorbar\": {\"outlinewidth\": 0, \"ticks\": \"\"}, \"type\": \"choropleth\"}], \"contour\": [{\"colorbar\": {\"outlinewidth\": 0, \"ticks\": \"\"}, \"colorscale\": [[0.0, \"#0d0887\"], [0.1111111111111111, \"#46039f\"], [0.2222222222222222, \"#7201a8\"], [0.3333333333333333, \"#9c179e\"], [0.4444444444444444, \"#bd3786\"], [0.5555555555555556, \"#d8576b\"], [0.6666666666666666, \"#ed7953\"], [0.7777777777777778, \"#fb9f3a\"], [0.8888888888888888, \"#fdca26\"], [1.0, \"#f0f921\"]], \"type\": \"contour\"}], \"contourcarpet\": [{\"colorbar\": {\"outlinewidth\": 0, \"ticks\": \"\"}, \"type\": \"contourcarpet\"}], \"heatmap\": [{\"colorbar\": {\"outlinewidth\": 0, \"ticks\": \"\"}, \"colorscale\": [[0.0, \"#0d0887\"], [0.1111111111111111, \"#46039f\"], [0.2222222222222222, \"#7201a8\"], [0.3333333333333333, \"#9c179e\"], [0.4444444444444444, \"#bd3786\"], [0.5555555555555556, \"#d8576b\"], [0.6666666666666666, \"#ed7953\"], [0.7777777777777778, \"#fb9f3a\"], [0.8888888888888888, \"#fdca26\"], [1.0, \"#f0f921\"]], \"type\": \"heatmap\"}], \"heatmapgl\": [{\"colorbar\": {\"outlinewidth\": 0, \"ticks\": \"\"}, \"colorscale\": [[0.0, \"#0d0887\"], [0.1111111111111111, \"#46039f\"], [0.2222222222222222, \"#7201a8\"], [0.3333333333333333, \"#9c179e\"], [0.4444444444444444, \"#bd3786\"], [0.5555555555555556, \"#d8576b\"], [0.6666666666666666, \"#ed7953\"], [0.7777777777777778, \"#fb9f3a\"], [0.8888888888888888, \"#fdca26\"], [1.0, \"#f0f921\"]], \"type\": \"heatmapgl\"}], \"histogram\": [{\"marker\": {\"colorbar\": {\"outlinewidth\": 0, \"ticks\": \"\"}}, \"type\": \"histogram\"}], \"histogram2d\": [{\"colorbar\": {\"outlinewidth\": 0, \"ticks\": \"\"}, \"colorscale\": [[0.0, \"#0d0887\"], [0.1111111111111111, \"#46039f\"], [0.2222222222222222, \"#7201a8\"], [0.3333333333333333, \"#9c179e\"], [0.4444444444444444, \"#bd3786\"], [0.5555555555555556, \"#d8576b\"], [0.6666666666666666, \"#ed7953\"], [0.7777777777777778, \"#fb9f3a\"], [0.8888888888888888, \"#fdca26\"], [1.0, \"#f0f921\"]], \"type\": \"histogram2d\"}], \"histogram2dcontour\": [{\"colorbar\": {\"outlinewidth\": 0, \"ticks\": \"\"}, \"colorscale\": [[0.0, \"#0d0887\"], [0.1111111111111111, \"#46039f\"], [0.2222222222222222, \"#7201a8\"], [0.3333333333333333, \"#9c179e\"], [0.4444444444444444, \"#bd3786\"], [0.5555555555555556, \"#d8576b\"], [0.6666666666666666, \"#ed7953\"], [0.7777777777777778, \"#fb9f3a\"], [0.8888888888888888, \"#fdca26\"], [1.0, \"#f0f921\"]], \"type\": \"histogram2dcontour\"}], \"mesh3d\": [{\"colorbar\": {\"outlinewidth\": 0, \"ticks\": \"\"}, \"type\": \"mesh3d\"}], \"parcoords\": [{\"line\": {\"colorbar\": {\"outlinewidth\": 0, \"ticks\": \"\"}}, \"type\": \"parcoords\"}], \"pie\": [{\"automargin\": true, \"type\": \"pie\"}], \"scatter\": [{\"marker\": {\"colorbar\": {\"outlinewidth\": 0, \"ticks\": \"\"}}, \"type\": \"scatter\"}], \"scatter3d\": [{\"line\": {\"colorbar\": {\"outlinewidth\": 0, \"ticks\": \"\"}}, \"marker\": {\"colorbar\": {\"outlinewidth\": 0, \"ticks\": \"\"}}, \"type\": \"scatter3d\"}], \"scattercarpet\": [{\"marker\": {\"colorbar\": {\"outlinewidth\": 0, \"ticks\": \"\"}}, \"type\": \"scattercarpet\"}], \"scattergeo\": [{\"marker\": {\"colorbar\": {\"outlinewidth\": 0, \"ticks\": \"\"}}, \"type\": \"scattergeo\"}], \"scattergl\": [{\"marker\": {\"colorbar\": {\"outlinewidth\": 0, \"ticks\": \"\"}}, \"type\": \"scattergl\"}], \"scattermapbox\": [{\"marker\": {\"colorbar\": {\"outlinewidth\": 0, \"ticks\": \"\"}}, \"type\": \"scattermapbox\"}], \"scatterpolar\": [{\"marker\": {\"colorbar\": {\"outlinewidth\": 0, \"ticks\": \"\"}}, \"type\": \"scatterpolar\"}], \"scatterpolargl\": [{\"marker\": {\"colorbar\": {\"outlinewidth\": 0, \"ticks\": \"\"}}, \"type\": \"scatterpolargl\"}], \"scatterternary\": [{\"marker\": {\"colorbar\": {\"outlinewidth\": 0, \"ticks\": \"\"}}, \"type\": \"scatterternary\"}], \"surface\": [{\"colorbar\": {\"outlinewidth\": 0, \"ticks\": \"\"}, \"colorscale\": [[0.0, \"#0d0887\"], [0.1111111111111111, \"#46039f\"], [0.2222222222222222, \"#7201a8\"], [0.3333333333333333, \"#9c179e\"], [0.4444444444444444, \"#bd3786\"], [0.5555555555555556, \"#d8576b\"], [0.6666666666666666, \"#ed7953\"], [0.7777777777777778, \"#fb9f3a\"], [0.8888888888888888, \"#fdca26\"], [1.0, \"#f0f921\"]], \"type\": \"surface\"}], \"table\": [{\"cells\": {\"fill\": {\"color\": \"#EBF0F8\"}, \"line\": {\"color\": \"white\"}}, \"header\": {\"fill\": {\"color\": \"#C8D4E3\"}, \"line\": {\"color\": \"white\"}}, \"type\": \"table\"}]}, \"layout\": {\"annotationdefaults\": {\"arrowcolor\": \"#2a3f5f\", \"arrowhead\": 0, \"arrowwidth\": 1}, \"autotypenumbers\": \"strict\", \"coloraxis\": {\"colorbar\": {\"outlinewidth\": 0, \"ticks\": \"\"}}, \"colorscale\": {\"diverging\": [[0, \"#8e0152\"], [0.1, \"#c51b7d\"], [0.2, \"#de77ae\"], [0.3, \"#f1b6da\"], [0.4, \"#fde0ef\"], [0.5, \"#f7f7f7\"], [0.6, \"#e6f5d0\"], [0.7, \"#b8e186\"], [0.8, \"#7fbc41\"], [0.9, \"#4d9221\"], [1, \"#276419\"]], \"sequential\": [[0.0, \"#0d0887\"], [0.1111111111111111, \"#46039f\"], [0.2222222222222222, \"#7201a8\"], [0.3333333333333333, \"#9c179e\"], [0.4444444444444444, \"#bd3786\"], [0.5555555555555556, \"#d8576b\"], [0.6666666666666666, \"#ed7953\"], [0.7777777777777778, \"#fb9f3a\"], [0.8888888888888888, \"#fdca26\"], [1.0, \"#f0f921\"]], \"sequentialminus\": [[0.0, \"#0d0887\"], [0.1111111111111111, \"#46039f\"], [0.2222222222222222, \"#7201a8\"], [0.3333333333333333, \"#9c179e\"], [0.4444444444444444, \"#bd3786\"], [0.5555555555555556, \"#d8576b\"], [0.6666666666666666, \"#ed7953\"], [0.7777777777777778, \"#fb9f3a\"], [0.8888888888888888, \"#fdca26\"], [1.0, \"#f0f921\"]]}, \"colorway\": [\"#636efa\", \"#EF553B\", \"#00cc96\", \"#ab63fa\", \"#FFA15A\", \"#19d3f3\", \"#FF6692\", \"#B6E880\", \"#FF97FF\", \"#FECB52\"], \"font\": {\"color\": \"#2a3f5f\"}, \"geo\": {\"bgcolor\": \"white\", \"lakecolor\": \"white\", \"landcolor\": \"#E5ECF6\", \"showlakes\": true, \"showland\": true, \"subunitcolor\": \"white\"}, \"hoverlabel\": {\"align\": \"left\"}, \"hovermode\": \"closest\", \"mapbox\": {\"style\": \"light\"}, \"paper_bgcolor\": \"white\", \"plot_bgcolor\": \"#E5ECF6\", \"polar\": {\"angularaxis\": {\"gridcolor\": \"white\", \"linecolor\": \"white\", \"ticks\": \"\"}, \"bgcolor\": \"#E5ECF6\", \"radialaxis\": {\"gridcolor\": \"white\", \"linecolor\": \"white\", \"ticks\": \"\"}}, \"scene\": {\"xaxis\": {\"backgroundcolor\": \"#E5ECF6\", \"gridcolor\": \"white\", \"gridwidth\": 2, \"linecolor\": \"white\", \"showbackground\": true, \"ticks\": \"\", \"zerolinecolor\": \"white\"}, \"yaxis\": {\"backgroundcolor\": \"#E5ECF6\", \"gridcolor\": \"white\", \"gridwidth\": 2, \"linecolor\": \"white\", \"showbackground\": true, \"ticks\": \"\", \"zerolinecolor\": \"white\"}, \"zaxis\": {\"backgroundcolor\": \"#E5ECF6\", \"gridcolor\": \"white\", \"gridwidth\": 2, \"linecolor\": \"white\", \"showbackground\": true, \"ticks\": \"\", \"zerolinecolor\": \"white\"}}, \"shapedefaults\": {\"line\": {\"color\": \"#2a3f5f\"}}, \"ternary\": {\"aaxis\": {\"gridcolor\": \"white\", \"linecolor\": \"white\", \"ticks\": \"\"}, \"baxis\": {\"gridcolor\": \"white\", \"linecolor\": \"white\", \"ticks\": \"\"}, \"bgcolor\": \"#E5ECF6\", \"caxis\": {\"gridcolor\": \"white\", \"linecolor\": \"white\", \"ticks\": \"\"}}, \"title\": {\"x\": 0.05}, \"xaxis\": {\"automargin\": true, \"gridcolor\": \"white\", \"linecolor\": \"white\", \"ticks\": \"\", \"title\": {\"standoff\": 15}, \"zerolinecolor\": \"white\", \"zerolinewidth\": 2}, \"yaxis\": {\"automargin\": true, \"gridcolor\": \"white\", \"linecolor\": \"white\", \"ticks\": \"\", \"title\": {\"standoff\": 15}, \"zerolinecolor\": \"white\", \"zerolinewidth\": 2}}}, \"title\": {\"text\": \"Identifying Causes of Stroke\", \"x\": 0.5, \"xanchor\": \"center\", \"y\": 0.9, \"yanchor\": \"top\"}, \"xaxis\": {\"title\": {\"text\": \"Average Treatment Effect (in difference of proportions)\"}}, \"yaxis\": {\"title\": {\"text\": \"Treatment Variable\"}}},                        {\"responsive\": true}                    ).then(function(){\n",
       "                            \n",
       "var gd = document.getElementById('098ed10a-aed7-4971-9b78-da6e15540d57');\n",
       "var x = new MutationObserver(function (mutations, observer) {{\n",
       "        var display = window.getComputedStyle(gd).display;\n",
       "        if (!display || display === 'none') {{\n",
       "            console.log([gd, 'removed!']);\n",
       "            Plotly.purge(gd);\n",
       "            observer.disconnect();\n",
       "        }}\n",
       "}});\n",
       "\n",
       "// Listen for the removal of the full notebook cells\n",
       "var notebookContainer = gd.closest('#notebook-container');\n",
       "if (notebookContainer) {{\n",
       "    x.observe(notebookContainer, {childList: true});\n",
       "}}\n",
       "\n",
       "// Listen for the clearing of the current output cell\n",
       "var outputEl = gd.closest('.output');\n",
       "if (outputEl) {{\n",
       "    x.observe(outputEl, {childList: true});\n",
       "}}\n",
       "\n",
       "                        })                };                });            </script>        </div>"
      ]
     },
     "metadata": {},
     "output_type": "display_data"
    }
   ],
   "source": [
    "import plotly.graph_objects as go # https://www.geeksforgeeks.org/diverging-bar-chart-using-python/\n",
    "\n",
    "# Creating a Figure\n",
    "Diverging = go.Figure()\n",
    "\n",
    "Diverging.add_trace(go.Bar(x=ATE_LIST,\n",
    "                               y=treatment,\n",
    "                               orientation='h',\n",
    "                               name=treatment[0],\n",
    "                               customdata=ATE_LIST,\n",
    "                               hovertemplate=\"%{y}: %{customdata}\"))\n",
    "\n",
    "Diverging.update_layout(\n",
    "    xaxis_title=\"Average Treatment Effect (in difference of proportions)\",\n",
    "    yaxis_title=\"Treatment Variable\",\n",
    "    legend_title=\"Legend Title\",\n",
    "    font=dict(\n",
    "        family=\"Courier New, monospace\",\n",
    "        size=12,\n",
    "        color=\"Black\"\n",
    "    ),\n",
    "    title={\n",
    "        'text': \"Identifying Causes of Stroke\",\n",
    "        'y':0.9,\n",
    "        'x':0.5,\n",
    "        'xanchor': 'center',\n",
    "        'yanchor': 'top'})"
   ]
  },
  {
   "attachments": {
    "ate_plot.jpg": {
     "image/jpeg": "[encoded data removed]"
    }
   },
   "cell_type": "markdown",
   "metadata": {},
   "source": [
    "![ate_plot.jpg](attachment:ate_plot.jpg)"
   ]
  },
  {
   "cell_type": "markdown",
   "metadata": {},
   "source": [
    "LEGEND:\n",
    "\n",
    "age_bin_0 - ages 0-25\n",
    "age_bin_1 - ages 25-44\n",
    "age_bin_2 - ages 44-60\n",
    "age_bin_3 - ages 60-82\n",
    "gender - indicator variable for being Male.\n",
    "residence_type - indicator variable for living in an urban area. (rural=0)\n",
    "obese - indicator variable for having a bmi over 30.\n",
    "high_blood_sugar - indicator variable for having high blood sugar (avg_glucose over 130)\n",
    "ever_married - indicator variable for being currently or previously married."
   ]
  },
  {
   "cell_type": "markdown",
   "metadata": {},
   "source": [
    "Overall, the ATE results lead us to believe that the leading causes of stroke (out of covariates in the dataset) are, in order, old age, high blood sugar, hypertension, heart disease, and having a gender of female. These top covariates are in agreement with general medical literature about the factors influencing stroke [10]. \n",
    "\n",
    "Among the top 5 features that have the greatest positive causal effect on stroke, high blood sugar, heart-disease, and hypertension are all modifiable risk factors, as individuals can seek medical treatment and pursue lifestyle changes in order to manage their blook sugar and blood pressure. Hence, a key takeaway is that seeking treatment for medical conditions such as diabetes, hypertension, and heart disease are crucial in the prevention of stroke. Finally, we also see that smoking, another modifiable risk factor, has a slight positive treatment effect on stroke. \n",
    "\n",
    "We see that age, a non-modifiable feature, is the top influencer of increasing the risk of stroke. Individuals in age_bin_3 (between ages 60-82) are at much higher risk of stroke than patients in the other age groups. The age group with the lowest risk of stroke is age_bin_1 (between ages 25-44). According to the NIH, over 70% of all strokes occur above the age of 65, and incidence of stroke doubles with each decade after the age of 45 years [11].\n",
    "\n",
    "Among the treatment variables that decrease risk of stroke are being young in age as well as career type. Individuals who work with children (work_type_children) have a decreased risk of stroke. There have been studies which have shown that having children is associated with a decrease in blood pressure [9]. Individuals who have never worked also have a decreased risk. While it is tempting to think that \"never_worked\" is being confounded with young age, recall that FLAME takes this confounding into consideration through matching. That is, the estimation of treatment effect is calculated through matching each treatment unit (individual who has never worked) with a control unit (individual who HAS worked) who is near identical in all other features aside from work type.\n",
    "\n",
    "Since the outcome was a binary (Stroke = {0,1}) variable, the ATE is the expect difference between the proportion of subjects who experienced stroke in the treatment group and the proportion who experienced stroke in the control group (this would also explain why the ATE values are all small in magnitude)."
   ]
  },
  {
   "cell_type": "markdown",
   "metadata": {},
   "source": [
    "# Heterogeneity in CATE"
   ]
  },
  {
   "cell_type": "markdown",
   "metadata": {},
   "source": [
    "We will look at the heterogeneity in CATE of the top three most important treatment variables."
   ]
  },
  {
   "cell_type": "code",
   "execution_count": 2,
   "metadata": {
    "scrolled": true
   },
   "outputs": [],
   "source": [
    "# model_flame_HD = dame_flame.matching.FLAME(repeats=True, verbose=3, adaptive_weights='ridge', alpha=0.1, want_pe=True, early_stop_iterations=30)\n",
    "# model_flame_HD.fit(holdout_data=df_trunc, treatment_column_name='heart_disease', outcome_column_name='stroke')\n",
    "# res_flame_HD = model_flame_HD.predict(df_trunc)"
   ]
  },
  {
   "cell_type": "code",
   "execution_count": 16,
   "metadata": {},
   "outputs": [],
   "source": [
    "group_size_treated = []\n",
    "group_size_overall = []\n",
    "cate_of_group = []\n",
    "for group in model_flame_HD.units_per_group:\n",
    "    \n",
    "    # find len of just treated units\n",
    "    df_mmg = df_trunc.loc[group]\n",
    "    treated = df_mmg.loc[df_mmg[\"heart_disease\"] == 1]\n",
    "    \n",
    "    group_size_treated.append(len(treated))\n",
    "    group_size_overall.append(len(group))\n",
    "    \n",
    "    cate_of_group.append(dame_flame.utils.post_processing.CATE(model_flame_HD, group[0]))"
   ]
  },
  {
   "cell_type": "code",
   "execution_count": 17,
   "metadata": {},
   "outputs": [
    {
     "data": {
      "text/plain": [
       "Text(0, 0.5, 'Estimated Treatment Effect of Group')"
      ]
     },
     "execution_count": 17,
     "metadata": {},
     "output_type": "execute_result"
    },
    {
     "data": {
      "image/png": "[encoded data removed]",
      "text/plain": [
       "<Figure size 432x288 with 1 Axes>"
      ]
     },
     "metadata": {
      "needs_background": "light"
     },
     "output_type": "display_data"
    }
   ],
   "source": [
    "plt.scatter(group_size_treated, cate_of_group, alpha=0.25, edgecolors='b')\n",
    "plt.axhline(y=0.0, color='r', linestyle='-')\n",
    "plt.title('CATE of Matched Groups for Treatment=heart_disease')\n",
    "plt.xlabel('Number of Treatment units in group', fontsize=12)\n",
    "plt.ylabel('Estimated Treatment Effect of Group', fontsize=12)"
   ]
  },
  {
   "cell_type": "code",
   "execution_count": 34,
   "metadata": {},
   "outputs": [],
   "source": [
    "# model_flame_elderly = dame_flame.matching.FLAME(repeats=True, verbose=3, adaptive_weights='ridge', alpha=0.1, want_pe=True, early_stop_iterations=30)\n",
    "# model_flame_elderly.fit(holdout_data=df_trunc, treatment_column_name='age_bin_3', outcome_column_name='stroke')\n",
    "# # why is this not working after adding age_bin?\n",
    "# res_flame_elderly = model_flame_elderly.predict(df_trunc)"
   ]
  },
  {
   "cell_type": "code",
   "execution_count": 27,
   "metadata": {},
   "outputs": [],
   "source": [
    "group_size_treated = []\n",
    "group_size_overall = []\n",
    "cate_of_group = []\n",
    "for group in model_flame_elderly.units_per_group:\n",
    "    \n",
    "    # find len of just treated units\n",
    "    df_mmg = df_trunc.loc[group]\n",
    "    treated = df_mmg.loc[df_mmg[\"age_bin_3\"] == 1]\n",
    "    \n",
    "    group_size_treated.append(len(treated))\n",
    "    group_size_overall.append(len(group))\n",
    "    \n",
    "    cate_of_group.append(dame_flame.utils.post_processing.CATE(model_flame_elderly, group[0]))"
   ]
  },
  {
   "cell_type": "code",
   "execution_count": 29,
   "metadata": {},
   "outputs": [
    {
     "data": {
      "text/plain": [
       "Text(0, 0.5, 'Estimated Treatment Effect of Group')"
      ]
     },
     "execution_count": 29,
     "metadata": {},
     "output_type": "execute_result"
    },
    {
     "data": {
      "image/png": "[encoded data removed]",
      "text/plain": [
       "<Figure size 432x288 with 1 Axes>"
      ]
     },
     "metadata": {
      "needs_background": "light"
     },
     "output_type": "display_data"
    }
   ],
   "source": [
    "plt.scatter(group_size_treated, cate_of_group, alpha=0.25, edgecolors='b')\n",
    "plt.axhline(y=0.0, color='r', linestyle='-')\n",
    "plt.title('CATE of Matched Groups for Treatment=old_age')\n",
    "plt.xlabel('Number of Treatment units in group', fontsize=12)\n",
    "plt.ylabel('Estimated Treatment Effect of Group', fontsize=12)"
   ]
  },
  {
   "cell_type": "code",
   "execution_count": 33,
   "metadata": {},
   "outputs": [],
   "source": [
    "# model_flame_ht = dame_flame.matching.FLAME(repeats=True, verbose=3, adaptive_weights='ridge', alpha=0.1, want_pe=True, early_stop_iterations=30)\n",
    "# model_flame_ht.fit(holdout_data=df_trunc, treatment_column_name='hypertension', outcome_column_name='stroke')\n",
    "# # why is this not working after adding age_bin?\n",
    "# res_flame_ht = model_flame_ht.predict(df_trunc)"
   ]
  },
  {
   "cell_type": "code",
   "execution_count": 31,
   "metadata": {},
   "outputs": [],
   "source": [
    "group_size_treated = []\n",
    "group_size_overall = []\n",
    "cate_of_group = []\n",
    "for group in model_flame_ht.units_per_group:\n",
    "    \n",
    "    # find len of just treated units\n",
    "    df_mmg = df_trunc.loc[group]\n",
    "    treated = df_mmg.loc[df_mmg[\"age_bin_3\"] == 1]\n",
    "    \n",
    "    group_size_treated.append(len(treated))\n",
    "    group_size_overall.append(len(group))\n",
    "    \n",
    "    cate_of_group.append(dame_flame.utils.post_processing.CATE(model_flame_ht, group[0]))"
   ]
  },
  {
   "cell_type": "code",
   "execution_count": 32,
   "metadata": {
    "scrolled": true
   },
   "outputs": [
    {
     "data": {
      "text/plain": [
       "Text(0, 0.5, 'Estimated Treatment Effect of Group')"
      ]
     },
     "execution_count": 32,
     "metadata": {},
     "output_type": "execute_result"
    },
    {
     "data": {
      "image/png": "[encoded data removed]",
      "text/plain": [
       "<Figure size 432x288 with 1 Axes>"
      ]
     },
     "metadata": {
      "needs_background": "light"
     },
     "output_type": "display_data"
    }
   ],
   "source": [
    "plt.scatter(group_size_treated, cate_of_group, alpha=0.25, edgecolors='b')\n",
    "plt.axhline(y=0.0, color='r', linestyle='-')\n",
    "plt.title('CATE of Matched Groups for Treatment=hypertension')\n",
    "plt.xlabel('Number of Treatment units in group', fontsize=12)\n",
    "plt.ylabel('Estimated Treatment Effect of Group', fontsize=12)"
   ]
  },
  {
   "cell_type": "markdown",
   "metadata": {},
   "source": [
    "### Variable Importance Approach"
   ]
  },
  {
   "cell_type": "code",
   "execution_count": 42,
   "metadata": {},
   "outputs": [],
   "source": [
    "### SVM_Variable_Importance"
   ]
  },
  {
   "cell_type": "code",
   "execution_count": 56,
   "metadata": {},
   "outputs": [],
   "source": [
    "from sklearn.model_selection import train_test_split\n",
    "X_train, X_test, Y_train, Y_test = train_test_split(x.to_numpy(),y.to_numpy(),test_size=0.20,random_state=1)"
   ]
  },
  {
   "cell_type": "code",
   "execution_count": 58,
   "metadata": {},
   "outputs": [
    {
     "data": {
      "text/plain": [
       "SVC(random_state=0)"
      ]
     },
     "execution_count": 58,
     "metadata": {},
     "output_type": "execute_result"
    }
   ],
   "source": [
    "#Using SVC method of svm class to use Support Vector Machine Algorithm\n",
    "from sklearn.svm import SVC\n",
    "svc_lin = SVC(kernel = 'linear', random_state =0)\n",
    "svc_lin.fit(X_train, Y_train)\n",
    "\n",
    "#Using SVC method of svm class to use Kernel SVM Algorithm\n",
    "from sklearn.svm import SVC\n",
    "svc_rbf = SVC(kernel = 'rbf', random_state = 0)\n",
    "svc_rbf.fit(X_train, Y_train)"
   ]
  },
  {
   "cell_type": "code",
   "execution_count": 59,
   "metadata": {},
   "outputs": [
    {
     "name": "stdout",
     "output_type": "stream",
     "text": [
      "The Accuracy for the linear svm is:  0.9228723404255319\n",
      "The Classification Report for the linear svm:\n",
      "              precision    recall  f1-score   support\n",
      "\n",
      "           0       0.89      0.96      0.93       930\n",
      "           1       0.96      0.88      0.92       950\n",
      "\n",
      "    accuracy                           0.92      1880\n",
      "   macro avg       0.93      0.92      0.92      1880\n",
      "weighted avg       0.93      0.92      0.92      1880\n",
      "\n",
      "The Accuracy for the RBF svm is:  0.7569148936170212\n",
      "The Classification Report for the radial basis function svm:\n",
      "              precision    recall  f1-score   support\n",
      "\n",
      "           0       0.78      0.71      0.74       930\n",
      "           1       0.74      0.80      0.77       950\n",
      "\n",
      "    accuracy                           0.76      1880\n",
      "   macro avg       0.76      0.76      0.76      1880\n",
      "weighted avg       0.76      0.76      0.76      1880\n",
      "\n"
     ]
    }
   ],
   "source": [
    "from sklearn.metrics import accuracy_score\n",
    "from sklearn.metrics import classification_report\n",
    "\n",
    "print(\"The Accuracy for the linear svm is: \", accuracy_score(Y_test, svc_lin.predict(X_test)))\n",
    "\n",
    "print(\"The Classification Report for the linear svm:\")\n",
    "print( classification_report(Y_test, svc_lin.predict(X_test)) )\n",
    "\n",
    "print(\"The Accuracy for the RBF svm is: \", accuracy_score(Y_test, svc_rbf.predict(X_test)))\n",
    "\n",
    "print(\"The Classification Report for the radial basis function svm:\")\n",
    "print( classification_report(Y_test, svc_rbf.predict(X_test)) )"
   ]
  },
  {
   "cell_type": "markdown",
   "metadata": {},
   "source": [
    "Now to estimate causal effects, we will rank variable importance."
   ]
  },
  {
   "cell_type": "code",
   "execution_count": 60,
   "metadata": {},
   "outputs": [
    {
     "data": {
      "text/plain": [
       "0.0771276595744681"
      ]
     },
     "execution_count": 60,
     "metadata": {},
     "output_type": "execute_result"
    }
   ],
   "source": [
    "# Accuracy\n",
    "accuracy_linear = accuracy_score(Y_test, svc_lin.predict(X_test))\n",
    "original_loss = 1-accuracy_linear\n",
    "\n",
    "# We will use the zero_one loss.\n",
    "original_loss"
   ]
  },
  {
   "cell_type": "code",
   "execution_count": 61,
   "metadata": {},
   "outputs": [],
   "source": [
    "# create lists to store the scrambled data.\n",
    "training_scramble = []\n",
    "testing_scramble = []"
   ]
  },
  {
   "cell_type": "code",
   "execution_count": 62,
   "metadata": {},
   "outputs": [],
   "source": [
    "for i in range(len(x.columns)-1):\n",
    "    X_train_scramble, X_test_scramble = X_train.copy(), X_test.copy()\n",
    "    \n",
    "    # scramble the column on train/test data\n",
    "    col_train = X_train_scramble[:,i]\n",
    "    col_test = X_test_scramble[:,i]\n",
    "    \n",
    "    random.shuffle(col_train)\n",
    "    random.shuffle(col_test)\n",
    "    \n",
    "    X_train_scramble[:,i] = col_train\n",
    "    X_test_scramble[:,i] = col_test\n",
    "    \n",
    "    training_scramble.append(X_train_scramble)\n",
    "    testing_scramble.append(X_test_scramble)"
   ]
  },
  {
   "cell_type": "code",
   "execution_count": 63,
   "metadata": {
    "scrolled": true
   },
   "outputs": [
    {
     "data": {
      "text/plain": [
       "array([[ 0, 80,  0, ...,  1,  0,  0],\n",
       "       [ 0, 59,  0, ...,  1,  0,  0],\n",
       "       [ 1, 80,  0, ...,  0,  0,  1],\n",
       "       ...,\n",
       "       [ 1, 77,  0, ...,  0,  1,  0],\n",
       "       [ 1, 58,  0, ...,  0,  0,  0],\n",
       "       [ 0, 59,  0, ...,  0,  0,  0]])"
      ]
     },
     "execution_count": 63,
     "metadata": {},
     "output_type": "execute_result"
    }
   ],
   "source": [
    "testing_scramble[1]"
   ]
  },
  {
   "cell_type": "code",
   "execution_count": 64,
   "metadata": {},
   "outputs": [],
   "source": [
    "# This list will store the losses on the scrambled data\n",
    "Loss_after_scramble = []\n",
    "\n",
    "for i in range(len(training_scramble)):\n",
    "    \n",
    "    # train on the scrambled data\n",
    "    #current_model = SVC(kernel = 'linear', random_state =0)\n",
    "    svc_lin = SVC(kernel = 'linear', random_state =0)\n",
    "    svc_lin.fit(training_scramble[i], Y_train)\n",
    "    \n",
    "    # Calculate Accuracy\n",
    "    #a, b, val = svm_predict(y_test, testing_scramble[i], current_model)\n",
    "    curr_accuracy = accuracy_score(Y_test, svc_lin.predict(testing_scramble[i]))\n",
    "    \n",
    "    # We will use the zero_one loss.\n",
    "    Loss_after_scramble.append(1 - curr_accuracy)"
   ]
  },
  {
   "cell_type": "code",
   "execution_count": 65,
   "metadata": {},
   "outputs": [
    {
     "name": "stdout",
     "output_type": "stream",
     "text": [
      "MR_diff  [0.004255319148936176, 0.027127659574468055, 0.0037234042553191404, 0.0031914893617021045, 0.0010638297872340718, 0.006914893617021245, 0.005319148936170248, 0.0031914893617021045, 0.033510638297872375, 0.029787234042553123, 0.047340425531914865, 0.012234042553191493, 0.019680851063829774, 0.0005319148936170359, 0.026063829787233983, 0.030851063829787195]\n",
      "MR_ratio is  [1.0551724137931036, 1.351724137931034, 1.0482758620689654, 1.0413793103448272, 1.0137931034482763, 1.0896551724137926, 1.0689655172413797, 1.0413793103448272, 1.43448275862069, 1.3862068965517231, 1.6137931034482753, 1.1586206896551725, 1.2551724137931033, 1.0068965517241382, 1.3379310344827577, 1.3999999999999995]\n"
     ]
    }
   ],
   "source": [
    "MR_d = [scr_loss-original_loss for scr_loss in Loss_after_scramble]\n",
    "MR_r = [scr_loss/original_loss for scr_loss in Loss_after_scramble]\n",
    "\n",
    "print(\"MR_diff \", MR_d)\n",
    "print(\"MR_ratio is \", MR_r)"
   ]
  },
  {
   "cell_type": "code",
   "execution_count": 77,
   "metadata": {},
   "outputs": [
    {
     "data": {
      "text/plain": [
       "[('work_type_Never_worked', 1.0068965517241382),\n",
       " ('ever_married', 1.0137931034482763),\n",
       " ('heart_disease', 1.0413793103448272),\n",
       " ('bmi', 1.0413793103448272),\n",
       " ('hypertension', 1.0482758620689654),\n",
       " ('gender', 1.0551724137931036),\n",
       " ('avg_glucose_level', 1.0689655172413797),\n",
       " ('Residence_type', 1.0896551724137926),\n",
       " ('smoking_status_smokes', 1.1586206896551725),\n",
       " ('work_type_Govt_job', 1.2551724137931033),\n",
       " ('work_type_Private', 1.3379310344827577),\n",
       " ('age', 1.351724137931034),\n",
       " ('smoking_status_formerly smoked', 1.3862068965517231),\n",
       " ('work_type_Self-employed', 1.3999999999999995),\n",
       " ('smoking_status_Unknown', 1.43448275862069),\n",
       " ('smoking_status_never smoked', 1.6137931034482753)]"
      ]
     },
     "execution_count": 77,
     "metadata": {},
     "output_type": "execute_result"
    }
   ],
   "source": [
    "# Ranking of Columns\n",
    "feat_list = x.columns\n",
    "MR_r\n",
    "col_MR = []\n",
    "for i in range(len(x.columns)-1):\n",
    "    col_MR.append((feat_list[i], MR_r[i]))\n",
    "col_MR\n",
    "\n",
    "col_MR.sort(key=lambda col_MR: col_MR[1])\n",
    "col_MR"
   ]
  },
  {
   "cell_type": "code",
   "execution_count": null,
   "metadata": {},
   "outputs": [],
   "source": []
  }
 ],
 "metadata": {
  "kernelspec": {
   "display_name": "Python 3",
   "language": "python",
   "name": "python3"
  },
  "language_info": {
   "codemirror_mode": {
    "name": "ipython",
    "version": 3
   },
   "file_extension": ".py",
   "mimetype": "text/x-python",
   "name": "python",
   "nbconvert_exporter": "python",
   "pygments_lexer": "ipython3",
   "version": "3.8.5"
  }
 },
 "nbformat": 4,
 "nbformat_minor": 4
}
